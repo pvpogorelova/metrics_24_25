{
  "nbformat": 4,
  "nbformat_minor": 0,
  "metadata": {
    "colab": {
      "provenance": [],
      "authorship_tag": "ABX9TyOn05QU1mqtnqeGs9c8T1qR",
      "include_colab_link": true
    },
    "kernelspec": {
      "name": "python3",
      "display_name": "Python 3"
    },
    "language_info": {
      "name": "python"
    }
  },
  "cells": [
    {
      "cell_type": "markdown",
      "metadata": {
        "id": "view-in-github",
        "colab_type": "text"
      },
      "source": [
        "<a href=\"https://colab.research.google.com/github/pvpogorelova/metrics_24_25/blob/main/sem_21.ipynb\" target=\"_parent\"><img src=\"https://colab.research.google.com/assets/colab-badge.svg\" alt=\"Open In Colab\"/></a>"
      ]
    },
    {
      "cell_type": "markdown",
      "source": [
        "**Семинар 21. Система одновременных уравнений (SEM).**"
      ],
      "metadata": {
        "id": "qywfO8rT7dIn"
      }
    },
    {
      "cell_type": "code",
      "source": [
        "!pip install linearmodels"
      ],
      "metadata": {
        "colab": {
          "base_uri": "https://localhost:8080/"
        },
        "id": "JxNdVogSY4qf",
        "outputId": "a2e9e865-f69f-4ef9-ce03-2ddc1de8f41e"
      },
      "execution_count": 6,
      "outputs": [
        {
          "output_type": "stream",
          "name": "stdout",
          "text": [
            "Requirement already satisfied: linearmodels in /usr/local/lib/python3.11/dist-packages (6.1)\n",
            "Requirement already satisfied: numpy<3,>=1.22.3 in /usr/local/lib/python3.11/dist-packages (from linearmodels) (1.26.4)\n",
            "Requirement already satisfied: pandas>=1.4.0 in /usr/local/lib/python3.11/dist-packages (from linearmodels) (2.2.2)\n",
            "Requirement already satisfied: scipy>=1.8.0 in /usr/local/lib/python3.11/dist-packages (from linearmodels) (1.13.1)\n",
            "Requirement already satisfied: statsmodels>=0.13.0 in /usr/local/lib/python3.11/dist-packages (from linearmodels) (0.14.4)\n",
            "Requirement already satisfied: mypy-extensions>=0.4 in /usr/local/lib/python3.11/dist-packages (from linearmodels) (1.0.0)\n",
            "Requirement already satisfied: Cython>=3.0.10 in /usr/local/lib/python3.11/dist-packages (from linearmodels) (3.0.12)\n",
            "Requirement already satisfied: pyhdfe>=0.1 in /usr/local/lib/python3.11/dist-packages (from linearmodels) (0.2.0)\n",
            "Requirement already satisfied: formulaic>=1.0.0 in /usr/local/lib/python3.11/dist-packages (from linearmodels) (1.1.1)\n",
            "Requirement already satisfied: setuptools-scm<9.0.0,>=8.0.0 in /usr/local/lib/python3.11/dist-packages (from setuptools-scm[toml]<9.0.0,>=8.0.0->linearmodels) (8.2.0)\n",
            "Requirement already satisfied: interface-meta>=1.2.0 in /usr/local/lib/python3.11/dist-packages (from formulaic>=1.0.0->linearmodels) (1.3.0)\n",
            "Requirement already satisfied: typing-extensions>=4.2.0 in /usr/local/lib/python3.11/dist-packages (from formulaic>=1.0.0->linearmodels) (4.12.2)\n",
            "Requirement already satisfied: wrapt>=1.0 in /usr/local/lib/python3.11/dist-packages (from formulaic>=1.0.0->linearmodels) (1.17.2)\n",
            "Requirement already satisfied: python-dateutil>=2.8.2 in /usr/local/lib/python3.11/dist-packages (from pandas>=1.4.0->linearmodels) (2.8.2)\n",
            "Requirement already satisfied: pytz>=2020.1 in /usr/local/lib/python3.11/dist-packages (from pandas>=1.4.0->linearmodels) (2025.1)\n",
            "Requirement already satisfied: tzdata>=2022.7 in /usr/local/lib/python3.11/dist-packages (from pandas>=1.4.0->linearmodels) (2025.1)\n",
            "Requirement already satisfied: packaging>=20 in /usr/local/lib/python3.11/dist-packages (from setuptools-scm<9.0.0,>=8.0.0->setuptools-scm[toml]<9.0.0,>=8.0.0->linearmodels) (24.2)\n",
            "Requirement already satisfied: setuptools>=61 in /usr/local/lib/python3.11/dist-packages (from setuptools-scm<9.0.0,>=8.0.0->setuptools-scm[toml]<9.0.0,>=8.0.0->linearmodels) (75.1.0)\n",
            "Requirement already satisfied: patsy>=0.5.6 in /usr/local/lib/python3.11/dist-packages (from statsmodels>=0.13.0->linearmodels) (1.0.1)\n",
            "Requirement already satisfied: six>=1.5 in /usr/local/lib/python3.11/dist-packages (from python-dateutil>=2.8.2->pandas>=1.4.0->linearmodels) (1.17.0)\n"
          ]
        }
      ]
    },
    {
      "cell_type": "markdown",
      "source": [
        "Рассмотрим пример системы с двумя одновременными регрессионными уравнениями.\n",
        "Набор данных MROZ (T.A. Mroz (1987), “The Sensitivity of an Empirical Model of Married Women’s Hours of Work to Economic and Statistical Assumptions\") содержит 753 наблюдения по следующим 22 переменным:\n",
        "\n",
        "* inlf: =1 if in lab frce, 1975\n",
        "* hours: hours worked, 1975\n",
        "* kidslt6: # kids < 6 years\n",
        "* kidsge6: # kids 6-18\n",
        "* age: woman's age in yrs\n",
        "* educ: years of schooling\n",
        "* wage: est. wage from earn, hrs\n",
        "* repwage: rep. wage at interview in 1976\n",
        "* hushrs: hours worked by husband, 1975\n",
        "* husage: husband's age\n",
        "* huseduc: husband's years of schooling\n",
        "* huswage: husband's hourly wage, 1975\n",
        "* faminc: family income, 1975\n",
        "* mtr: fed. marg. tax rte facing woman\n",
        "* motheduc: mother's years of schooling\n",
        "* fatheduc: father's years of schooling\n",
        "* unem: unem. rate in county of resid.\n",
        "* city: =1 if live in SMSA\n",
        "* exper: actual labor mkt exper\n",
        "* nwifeinc: (faminc - wage*hours)/1000\n",
        "* lwage: log(wage)\n",
        "* expersq: exper^2\n",
        "\n",
        "\n"
      ],
      "metadata": {
        "id": "jRnHqKm_vUAC"
      }
    },
    {
      "cell_type": "code",
      "execution_count": 3,
      "metadata": {
        "id": "zgFUavl7YzOp"
      },
      "outputs": [],
      "source": [
        "from linearmodels.datasets import mroz\n",
        "from linearmodels import IV2SLS, IV3SLS, SUR\n",
        "\n",
        "data = mroz.load()"
      ]
    },
    {
      "cell_type": "code",
      "source": [
        "# Отберем только интересующие нас признаки\n",
        "data = data[\n",
        "    [\"hours\", \"educ\", \"age\", \"kidslt6\", \"nwifeinc\", \"lwage\", \"exper\", \"expersq\"]\n",
        "]\n",
        "data = data.dropna()"
      ],
      "metadata": {
        "id": "Mg-IqNBqY1LI"
      },
      "execution_count": 4,
      "outputs": []
    },
    {
      "cell_type": "markdown",
      "source": [
        "Переменные $lwage$ (логарифм зарплаты) и $hours$ (количество отработанных часов за год) являются эндогенными переменными. Далее расмотрим для них два уравнения и оценим каждое с помощю 2SLS."
      ],
      "metadata": {
        "id": "IFcPGlDewntj"
      }
    },
    {
      "cell_type": "code",
      "source": [
        "# Оценим уравнение для отработанных часов, используя в качестве инструмента для lwage экзогенные переменные - exper и expersq\n",
        "hours = \"hours ~ educ + age + kidslt6 + nwifeinc + [lwage ~ exper + expersq]\"\n",
        "hours_mod = IV2SLS.from_formula(hours, data)\n",
        "hours_res = hours_mod.fit(cov_type=\"unadjusted\")\n",
        "print(hours_res)\n"
      ],
      "metadata": {
        "colab": {
          "base_uri": "https://localhost:8080/"
        },
        "id": "1R3rFjF3ZBMO",
        "outputId": "6e541fa3-25d7-4c25-aa77-c59ce9c28928"
      },
      "execution_count": 5,
      "outputs": [
        {
          "output_type": "stream",
          "name": "stdout",
          "text": [
            "                          IV-2SLS Estimation Summary                          \n",
            "==============================================================================\n",
            "Dep. Variable:                  hours   R-squared:                      0.1903\n",
            "Estimator:                    IV-2SLS   Adj. R-squared:                 0.1807\n",
            "No. Observations:                 428   F-statistic:                    399.30\n",
            "Date:                Fri, Mar 07 2025   P-value (F-stat)                0.0000\n",
            "Time:                        08:43:07   Distribution:                  chi2(5)\n",
            "Cov. Estimator:            unadjusted                                         \n",
            "                                                                              \n",
            "                             Parameter Estimates                              \n",
            "==============================================================================\n",
            "            Parameter  Std. Err.     T-stat    P-value    Lower CI    Upper CI\n",
            "------------------------------------------------------------------------------\n",
            "educ          -99.299     48.997    -2.0266     0.0427     -195.33     -3.2666\n",
            "age            19.429     6.2770     3.0952     0.0020      7.1261      31.732\n",
            "kidslt6       -51.616     183.96    -0.2806     0.7790     -412.18      308.95\n",
            "nwifeinc      -11.445     6.6787    -1.7137     0.0866     -24.535      1.6449\n",
            "lwage          1626.3     472.19     3.4442     0.0006      700.85      2551.8\n",
            "==============================================================================\n",
            "\n",
            "Endogenous: lwage\n",
            "Instruments: exper, expersq\n",
            "Unadjusted Covariance (Homoskedastic)\n",
            "Debiased: False\n"
          ]
        }
      ]
    },
    {
      "cell_type": "code",
      "source": [
        "# Оценим уравнение для логарифма зарплаты, используя в качестве инструмента для hours экзогенные переменные - age, kidslt6 и nwifeinc\n",
        "lwage = \"lwage ~ educ + exper + expersq + [hours ~ age + kidslt6 + nwifeinc]\"\n",
        "lwage_mod = IV2SLS.from_formula(lwage, data)\n",
        "lwage_res = lwage_mod.fit(cov_type=\"unadjusted\")\n",
        "print(lwage_res)"
      ],
      "metadata": {
        "colab": {
          "base_uri": "https://localhost:8080/"
        },
        "id": "G5JFC8PYZF_C",
        "outputId": "89694ccb-ae4e-4587-ed0c-47c73e88b0e5"
      },
      "execution_count": null,
      "outputs": [
        {
          "output_type": "stream",
          "name": "stdout",
          "text": [
            "                          IV-2SLS Estimation Summary                          \n",
            "==============================================================================\n",
            "Dep. Variable:                  lwage   R-squared:                      0.7582\n",
            "Estimator:                    IV-2SLS   Adj. R-squared:                 0.7559\n",
            "No. Observations:                 428   F-statistic:                    1362.4\n",
            "Date:                Thu, Mar 06 2025   P-value (F-stat)                0.0000\n",
            "Time:                        16:58:49   Distribution:                  chi2(4)\n",
            "Cov. Estimator:            unadjusted                                         \n",
            "                                                                              \n",
            "                             Parameter Estimates                              \n",
            "==============================================================================\n",
            "            Parameter  Std. Err.     T-stat    P-value    Lower CI    Upper CI\n",
            "------------------------------------------------------------------------------\n",
            "educ           0.0875     0.0162     5.3892     0.0000      0.0557      0.1193\n",
            "exper          0.0524     0.0299     1.7501     0.0801     -0.0063      0.1110\n",
            "expersq       -0.0009     0.0006    -1.4898     0.1363     -0.0021      0.0003\n",
            "hours         -0.0003     0.0003    -0.8666     0.3862     -0.0009      0.0004\n",
            "==============================================================================\n",
            "\n",
            "Endogenous: hours\n",
            "Instruments: age, kidslt6, nwifeinc\n",
            "Unadjusted Covariance (Homoskedastic)\n",
            "Debiased: False\n"
          ]
        }
      ]
    },
    {
      "cell_type": "code",
      "source": [
        "# Можно оценить два уравнения одновременно в системе\n",
        "system = dict(hours = hours, lwage = lwage)\n",
        "system_2sls = IV3SLS.from_formula(system, data)\n",
        "system_2sls_res = system_2sls.fit(method = \"ols\", cov_type = \"unadjusted\") # выбор ols эквивалентен оцениванию каждого уравнения с помощью 2SLS (сравните с результататми выше)\n",
        "print(system_2sls_res)\n"
      ],
      "metadata": {
        "colab": {
          "base_uri": "https://localhost:8080/"
        },
        "id": "MUdewQy4ZNeW",
        "outputId": "ad12dc96-1151-4e40-dfaf-f2d86ab4b783"
      },
      "execution_count": null,
      "outputs": [
        {
          "output_type": "stream",
          "name": "stdout",
          "text": [
            "                           System OLS Estimation Summary                           \n",
            "===================================================================================\n",
            "Estimator:                        OLS   Overall R-squared:                   0.1903\n",
            "No. Equations.:                     2   McElroy's R-squared:                 0.1276\n",
            "No. Observations:                 428   Judge's (OLS) R-squared:            -2.0961\n",
            "Date:                Thu, Mar 06 2025   Berndt's R-squared:                 -0.7279\n",
            "Time:                        16:58:58   Dhrymes's R-squared:                 0.1903\n",
            "                                        Cov. Estimator:                  unadjusted\n",
            "                                        Num. Constraints:                      None\n",
            "                  Equation: hours, Dependent Variable: hours                  \n",
            "==============================================================================\n",
            "            Parameter  Std. Err.     T-stat    P-value    Lower CI    Upper CI\n",
            "------------------------------------------------------------------------------\n",
            "educ          -99.299     48.997    -2.0266     0.0427     -195.33     -3.2666\n",
            "age            19.429     6.2770     3.0952     0.0020      7.1261      31.732\n",
            "kidslt6       -51.616     183.96    -0.2806     0.7790     -412.18      308.95\n",
            "nwifeinc      -11.445     6.6787    -1.7137     0.0866     -24.535      1.6449\n",
            "lwage          1626.3     472.19     3.4442     0.0006      700.85      2551.8\n",
            "                                                                              \n",
            "==============\n",
            " Instruments  \n",
            "--------------\n",
            "exper, expersq\n",
            "              \n",
            "                  Equation: lwage, Dependent Variable: lwage                  \n",
            "==============================================================================\n",
            "            Parameter  Std. Err.     T-stat    P-value    Lower CI    Upper CI\n",
            "------------------------------------------------------------------------------\n",
            "educ           0.0875     0.0162     5.3892     0.0000      0.0557      0.1193\n",
            "exper          0.0524     0.0299     1.7501     0.0801     -0.0063      0.1110\n",
            "expersq       -0.0009     0.0006    -1.4898     0.1363     -0.0021      0.0003\n",
            "hours         -0.0003     0.0003    -0.8666     0.3862     -0.0009      0.0004\n",
            "======================\n",
            "     Instruments      \n",
            "----------------------\n",
            "age, kidslt6, nwifeinc\n",
            "----------------------\n",
            "\n",
            "Covariance Estimator:\n",
            "Homoskedastic (Unadjusted) Covariance (Debiased: False, GLS: False)\n"
          ]
        }
      ]
    },
    {
      "cell_type": "code",
      "source": [
        "# Использование 3SLS с GLS на 3 шаге позволяет увеличить эффективность оценок\n",
        "system = dict(hours = hours, lwage = lwage)\n",
        "system_3sls = IV3SLS.from_formula(system, data)\n",
        "system_3sls_res = system_3sls.fit(method = \"gls\", cov_type = \"unadjusted\") # метод оценивания - GLS на 3 шаге\n",
        "print(system_3sls_res)"
      ],
      "metadata": {
        "colab": {
          "base_uri": "https://localhost:8080/"
        },
        "id": "L8Fxy3RRZP0s",
        "outputId": "820497ac-c7ce-49d3-e8c9-b7a1a3653d95"
      },
      "execution_count": null,
      "outputs": [
        {
          "output_type": "stream",
          "name": "stdout",
          "text": [
            "                           System GLS Estimation Summary                           \n",
            "===================================================================================\n",
            "Estimator:                        GLS   Overall R-squared:                   0.0120\n",
            "No. Equations.:                     2   McElroy's R-squared:                 0.0873\n",
            "No. Observations:                 428   Judge's (OLS) R-squared:            -2.7778\n",
            "Date:                Thu, Mar 06 2025   Berndt's R-squared:                 -0.7279\n",
            "Time:                        16:59:31   Dhrymes's R-squared:                 0.0120\n",
            "                                        Cov. Estimator:                  unadjusted\n",
            "                                        Num. Constraints:                      None\n",
            "                  Equation: hours, Dependent Variable: hours                  \n",
            "==============================================================================\n",
            "            Parameter  Std. Err.     T-stat    P-value    Lower CI    Upper CI\n",
            "------------------------------------------------------------------------------\n",
            "educ          -109.90     48.052    -2.2870     0.0222     -204.08     -15.716\n",
            "age            13.651     5.5456     2.4617     0.0138      2.7822      24.521\n",
            "kidslt6       -196.61     170.04    -1.1563     0.2476     -529.88      136.66\n",
            "nwifeinc      -6.4136     5.4646    -1.1736     0.2405     -17.124      4.2969\n",
            "lwage          1872.7     461.13     4.0611     0.0000      968.88      2776.5\n",
            "                                                                              \n",
            "==============\n",
            " Instruments  \n",
            "--------------\n",
            "exper, expersq\n",
            "              \n",
            "                  Equation: lwage, Dependent Variable: lwage                  \n",
            "==============================================================================\n",
            "            Parameter  Std. Err.     T-stat    P-value    Lower CI    Upper CI\n",
            "------------------------------------------------------------------------------\n",
            "educ           0.0859     0.0159     5.3864     0.0000      0.0546      0.1171\n",
            "exper          0.0550     0.0295     1.8622     0.0626     -0.0029      0.1128\n",
            "expersq       -0.0010     0.0006    -1.7539     0.0794     -0.0022      0.0001\n",
            "hours         -0.0003     0.0003    -0.8398     0.4010     -0.0009      0.0004\n",
            "======================\n",
            "     Instruments      \n",
            "----------------------\n",
            "age, kidslt6, nwifeinc\n",
            "----------------------\n",
            "\n",
            "Covariance Estimator:\n",
            "Homoskedastic (Unadjusted) Covariance (Debiased: False, GLS: True)\n"
          ]
        }
      ]
    }
  ]
}