{
  "nbformat": 4,
  "nbformat_minor": 0,
  "metadata": {
    "colab": {
      "provenance": [],
      "authorship_tag": "ABX9TyNeaW5lZO1KGj6srf3TzXHm",
      "include_colab_link": true
    },
    "kernelspec": {
      "name": "python3",
      "display_name": "Python 3"
    },
    "language_info": {
      "name": "python"
    }
  },
  "cells": [
    {
      "cell_type": "markdown",
      "metadata": {
        "id": "view-in-github",
        "colab_type": "text"
      },
      "source": [
        "<a href=\"https://colab.research.google.com/github/pvpogorelova/metrics_24_25/blob/main/sem_24.ipynb\" target=\"_parent\"><img src=\"https://colab.research.google.com/assets/colab-badge.svg\" alt=\"Open In Colab\"/></a>"
      ]
    },
    {
      "cell_type": "markdown",
      "source": [
        "# **Модель упорядоченного выбора (ordered logit).**"
      ],
      "metadata": {
        "id": "WZo7yicL3CQE"
      }
    },
    {
      "cell_type": "code",
      "source": [
        "import pandas as pd\n",
        "import numpy as np\n",
        "import statsmodels.api as sm\n",
        "from statsmodels.miscmodels.ordinal_model import OrderedModel"
      ],
      "metadata": {
        "id": "hSKiwdBF3Qra"
      },
      "execution_count": 1,
      "outputs": []
    },
    {
      "cell_type": "markdown",
      "source": [
        "Датасет **ologit.dta** содержит данные социологического исследования, изучающего факторы, влияющие на вероятность поступления абитуриентов в высшие учебные заведения.\n",
        "\n",
        "Объём выборки составляет 400 наблюдений. Основная зависимая переменная (apply) является *упорядоченной категориальной*, что делает целесообразным применение моделей порядковой логистической регрессии (Ordered Logit)."
      ],
      "metadata": {
        "id": "oj8AxX7r3Ud1"
      }
    },
    {
      "cell_type": "markdown",
      "source": [
        "**Цель исследования**\n",
        "\n",
        "Анализ направлен на оценку влияния:\n",
        "\n",
        "    * уровня образования родителей (pared),\n",
        "    * типа школы (public),\n",
        "    * академической успеваемости (gpa)\n",
        "на вероятность подачи заявки в высшие учебные заведения."
      ],
      "metadata": {
        "id": "BBNU9DOZ4j1b"
      }
    },
    {
      "cell_type": "code",
      "source": [
        "url = \"https://stats.idre.ucla.edu/stat/data/ologit.dta\"\n",
        "data = pd.read_stata(url)\n",
        "\n",
        "data.head(5)"
      ],
      "metadata": {
        "colab": {
          "base_uri": "https://localhost:8080/",
          "height": 206
        },
        "id": "_Z4SvlB53RIU",
        "outputId": "1b5d6c60-98da-41e3-e342-cafc0092c828"
      },
      "execution_count": 2,
      "outputs": [
        {
          "output_type": "execute_result",
          "data": {
            "text/plain": [
              "             apply  pared  public   gpa\n",
              "0      very likely      0       0  3.26\n",
              "1  somewhat likely      1       0  3.21\n",
              "2         unlikely      1       1  3.94\n",
              "3  somewhat likely      0       0  2.81\n",
              "4  somewhat likely      0       0  2.53"
            ],
            "text/html": [
              "\n",
              "  <div id=\"df-f964a51b-8839-4b7c-80c2-cdd4549ef500\" class=\"colab-df-container\">\n",
              "    <div>\n",
              "<style scoped>\n",
              "    .dataframe tbody tr th:only-of-type {\n",
              "        vertical-align: middle;\n",
              "    }\n",
              "\n",
              "    .dataframe tbody tr th {\n",
              "        vertical-align: top;\n",
              "    }\n",
              "\n",
              "    .dataframe thead th {\n",
              "        text-align: right;\n",
              "    }\n",
              "</style>\n",
              "<table border=\"1\" class=\"dataframe\">\n",
              "  <thead>\n",
              "    <tr style=\"text-align: right;\">\n",
              "      <th></th>\n",
              "      <th>apply</th>\n",
              "      <th>pared</th>\n",
              "      <th>public</th>\n",
              "      <th>gpa</th>\n",
              "    </tr>\n",
              "  </thead>\n",
              "  <tbody>\n",
              "    <tr>\n",
              "      <th>0</th>\n",
              "      <td>very likely</td>\n",
              "      <td>0</td>\n",
              "      <td>0</td>\n",
              "      <td>3.26</td>\n",
              "    </tr>\n",
              "    <tr>\n",
              "      <th>1</th>\n",
              "      <td>somewhat likely</td>\n",
              "      <td>1</td>\n",
              "      <td>0</td>\n",
              "      <td>3.21</td>\n",
              "    </tr>\n",
              "    <tr>\n",
              "      <th>2</th>\n",
              "      <td>unlikely</td>\n",
              "      <td>1</td>\n",
              "      <td>1</td>\n",
              "      <td>3.94</td>\n",
              "    </tr>\n",
              "    <tr>\n",
              "      <th>3</th>\n",
              "      <td>somewhat likely</td>\n",
              "      <td>0</td>\n",
              "      <td>0</td>\n",
              "      <td>2.81</td>\n",
              "    </tr>\n",
              "    <tr>\n",
              "      <th>4</th>\n",
              "      <td>somewhat likely</td>\n",
              "      <td>0</td>\n",
              "      <td>0</td>\n",
              "      <td>2.53</td>\n",
              "    </tr>\n",
              "  </tbody>\n",
              "</table>\n",
              "</div>\n",
              "    <div class=\"colab-df-buttons\">\n",
              "\n",
              "  <div class=\"colab-df-container\">\n",
              "    <button class=\"colab-df-convert\" onclick=\"convertToInteractive('df-f964a51b-8839-4b7c-80c2-cdd4549ef500')\"\n",
              "            title=\"Convert this dataframe to an interactive table.\"\n",
              "            style=\"display:none;\">\n",
              "\n",
              "  <svg xmlns=\"http://www.w3.org/2000/svg\" height=\"24px\" viewBox=\"0 -960 960 960\">\n",
              "    <path d=\"M120-120v-720h720v720H120Zm60-500h600v-160H180v160Zm220 220h160v-160H400v160Zm0 220h160v-160H400v160ZM180-400h160v-160H180v160Zm440 0h160v-160H620v160ZM180-180h160v-160H180v160Zm440 0h160v-160H620v160Z\"/>\n",
              "  </svg>\n",
              "    </button>\n",
              "\n",
              "  <style>\n",
              "    .colab-df-container {\n",
              "      display:flex;\n",
              "      gap: 12px;\n",
              "    }\n",
              "\n",
              "    .colab-df-convert {\n",
              "      background-color: #E8F0FE;\n",
              "      border: none;\n",
              "      border-radius: 50%;\n",
              "      cursor: pointer;\n",
              "      display: none;\n",
              "      fill: #1967D2;\n",
              "      height: 32px;\n",
              "      padding: 0 0 0 0;\n",
              "      width: 32px;\n",
              "    }\n",
              "\n",
              "    .colab-df-convert:hover {\n",
              "      background-color: #E2EBFA;\n",
              "      box-shadow: 0px 1px 2px rgba(60, 64, 67, 0.3), 0px 1px 3px 1px rgba(60, 64, 67, 0.15);\n",
              "      fill: #174EA6;\n",
              "    }\n",
              "\n",
              "    .colab-df-buttons div {\n",
              "      margin-bottom: 4px;\n",
              "    }\n",
              "\n",
              "    [theme=dark] .colab-df-convert {\n",
              "      background-color: #3B4455;\n",
              "      fill: #D2E3FC;\n",
              "    }\n",
              "\n",
              "    [theme=dark] .colab-df-convert:hover {\n",
              "      background-color: #434B5C;\n",
              "      box-shadow: 0px 1px 3px 1px rgba(0, 0, 0, 0.15);\n",
              "      filter: drop-shadow(0px 1px 2px rgba(0, 0, 0, 0.3));\n",
              "      fill: #FFFFFF;\n",
              "    }\n",
              "  </style>\n",
              "\n",
              "    <script>\n",
              "      const buttonEl =\n",
              "        document.querySelector('#df-f964a51b-8839-4b7c-80c2-cdd4549ef500 button.colab-df-convert');\n",
              "      buttonEl.style.display =\n",
              "        google.colab.kernel.accessAllowed ? 'block' : 'none';\n",
              "\n",
              "      async function convertToInteractive(key) {\n",
              "        const element = document.querySelector('#df-f964a51b-8839-4b7c-80c2-cdd4549ef500');\n",
              "        const dataTable =\n",
              "          await google.colab.kernel.invokeFunction('convertToInteractive',\n",
              "                                                    [key], {});\n",
              "        if (!dataTable) return;\n",
              "\n",
              "        const docLinkHtml = 'Like what you see? Visit the ' +\n",
              "          '<a target=\"_blank\" href=https://colab.research.google.com/notebooks/data_table.ipynb>data table notebook</a>'\n",
              "          + ' to learn more about interactive tables.';\n",
              "        element.innerHTML = '';\n",
              "        dataTable['output_type'] = 'display_data';\n",
              "        await google.colab.output.renderOutput(dataTable, element);\n",
              "        const docLink = document.createElement('div');\n",
              "        docLink.innerHTML = docLinkHtml;\n",
              "        element.appendChild(docLink);\n",
              "      }\n",
              "    </script>\n",
              "  </div>\n",
              "\n",
              "\n",
              "<div id=\"df-469344e3-d324-4f32-947f-e186d37c1bd6\">\n",
              "  <button class=\"colab-df-quickchart\" onclick=\"quickchart('df-469344e3-d324-4f32-947f-e186d37c1bd6')\"\n",
              "            title=\"Suggest charts\"\n",
              "            style=\"display:none;\">\n",
              "\n",
              "<svg xmlns=\"http://www.w3.org/2000/svg\" height=\"24px\"viewBox=\"0 0 24 24\"\n",
              "     width=\"24px\">\n",
              "    <g>\n",
              "        <path d=\"M19 3H5c-1.1 0-2 .9-2 2v14c0 1.1.9 2 2 2h14c1.1 0 2-.9 2-2V5c0-1.1-.9-2-2-2zM9 17H7v-7h2v7zm4 0h-2V7h2v10zm4 0h-2v-4h2v4z\"/>\n",
              "    </g>\n",
              "</svg>\n",
              "  </button>\n",
              "\n",
              "<style>\n",
              "  .colab-df-quickchart {\n",
              "      --bg-color: #E8F0FE;\n",
              "      --fill-color: #1967D2;\n",
              "      --hover-bg-color: #E2EBFA;\n",
              "      --hover-fill-color: #174EA6;\n",
              "      --disabled-fill-color: #AAA;\n",
              "      --disabled-bg-color: #DDD;\n",
              "  }\n",
              "\n",
              "  [theme=dark] .colab-df-quickchart {\n",
              "      --bg-color: #3B4455;\n",
              "      --fill-color: #D2E3FC;\n",
              "      --hover-bg-color: #434B5C;\n",
              "      --hover-fill-color: #FFFFFF;\n",
              "      --disabled-bg-color: #3B4455;\n",
              "      --disabled-fill-color: #666;\n",
              "  }\n",
              "\n",
              "  .colab-df-quickchart {\n",
              "    background-color: var(--bg-color);\n",
              "    border: none;\n",
              "    border-radius: 50%;\n",
              "    cursor: pointer;\n",
              "    display: none;\n",
              "    fill: var(--fill-color);\n",
              "    height: 32px;\n",
              "    padding: 0;\n",
              "    width: 32px;\n",
              "  }\n",
              "\n",
              "  .colab-df-quickchart:hover {\n",
              "    background-color: var(--hover-bg-color);\n",
              "    box-shadow: 0 1px 2px rgba(60, 64, 67, 0.3), 0 1px 3px 1px rgba(60, 64, 67, 0.15);\n",
              "    fill: var(--button-hover-fill-color);\n",
              "  }\n",
              "\n",
              "  .colab-df-quickchart-complete:disabled,\n",
              "  .colab-df-quickchart-complete:disabled:hover {\n",
              "    background-color: var(--disabled-bg-color);\n",
              "    fill: var(--disabled-fill-color);\n",
              "    box-shadow: none;\n",
              "  }\n",
              "\n",
              "  .colab-df-spinner {\n",
              "    border: 2px solid var(--fill-color);\n",
              "    border-color: transparent;\n",
              "    border-bottom-color: var(--fill-color);\n",
              "    animation:\n",
              "      spin 1s steps(1) infinite;\n",
              "  }\n",
              "\n",
              "  @keyframes spin {\n",
              "    0% {\n",
              "      border-color: transparent;\n",
              "      border-bottom-color: var(--fill-color);\n",
              "      border-left-color: var(--fill-color);\n",
              "    }\n",
              "    20% {\n",
              "      border-color: transparent;\n",
              "      border-left-color: var(--fill-color);\n",
              "      border-top-color: var(--fill-color);\n",
              "    }\n",
              "    30% {\n",
              "      border-color: transparent;\n",
              "      border-left-color: var(--fill-color);\n",
              "      border-top-color: var(--fill-color);\n",
              "      border-right-color: var(--fill-color);\n",
              "    }\n",
              "    40% {\n",
              "      border-color: transparent;\n",
              "      border-right-color: var(--fill-color);\n",
              "      border-top-color: var(--fill-color);\n",
              "    }\n",
              "    60% {\n",
              "      border-color: transparent;\n",
              "      border-right-color: var(--fill-color);\n",
              "    }\n",
              "    80% {\n",
              "      border-color: transparent;\n",
              "      border-right-color: var(--fill-color);\n",
              "      border-bottom-color: var(--fill-color);\n",
              "    }\n",
              "    90% {\n",
              "      border-color: transparent;\n",
              "      border-bottom-color: var(--fill-color);\n",
              "    }\n",
              "  }\n",
              "</style>\n",
              "\n",
              "  <script>\n",
              "    async function quickchart(key) {\n",
              "      const quickchartButtonEl =\n",
              "        document.querySelector('#' + key + ' button');\n",
              "      quickchartButtonEl.disabled = true;  // To prevent multiple clicks.\n",
              "      quickchartButtonEl.classList.add('colab-df-spinner');\n",
              "      try {\n",
              "        const charts = await google.colab.kernel.invokeFunction(\n",
              "            'suggestCharts', [key], {});\n",
              "      } catch (error) {\n",
              "        console.error('Error during call to suggestCharts:', error);\n",
              "      }\n",
              "      quickchartButtonEl.classList.remove('colab-df-spinner');\n",
              "      quickchartButtonEl.classList.add('colab-df-quickchart-complete');\n",
              "    }\n",
              "    (() => {\n",
              "      let quickchartButtonEl =\n",
              "        document.querySelector('#df-469344e3-d324-4f32-947f-e186d37c1bd6 button');\n",
              "      quickchartButtonEl.style.display =\n",
              "        google.colab.kernel.accessAllowed ? 'block' : 'none';\n",
              "    })();\n",
              "  </script>\n",
              "</div>\n",
              "    </div>\n",
              "  </div>\n"
            ],
            "application/vnd.google.colaboratory.intrinsic+json": {
              "type": "dataframe",
              "variable_name": "data",
              "summary": "{\n  \"name\": \"data\",\n  \"rows\": 400,\n  \"fields\": [\n    {\n      \"column\": \"apply\",\n      \"properties\": {\n        \"dtype\": \"category\",\n        \"num_unique_values\": 3,\n        \"samples\": [\n          \"very likely\",\n          \"somewhat likely\",\n          \"unlikely\"\n        ],\n        \"semantic_type\": \"\",\n        \"description\": \"\"\n      }\n    },\n    {\n      \"column\": \"pared\",\n      \"properties\": {\n        \"dtype\": \"int8\",\n        \"num_unique_values\": 2,\n        \"samples\": [\n          1,\n          0\n        ],\n        \"semantic_type\": \"\",\n        \"description\": \"\"\n      }\n    },\n    {\n      \"column\": \"public\",\n      \"properties\": {\n        \"dtype\": \"int8\",\n        \"num_unique_values\": 2,\n        \"samples\": [\n          1,\n          0\n        ],\n        \"semantic_type\": \"\",\n        \"description\": \"\"\n      }\n    },\n    {\n      \"column\": \"gpa\",\n      \"properties\": {\n        \"dtype\": \"float32\",\n        \"num_unique_values\": 146,\n        \"samples\": [\n          2.940000057220459,\n          3.25\n        ],\n        \"semantic_type\": \"\",\n        \"description\": \"\"\n      }\n    }\n  ]\n}"
            }
          },
          "metadata": {},
          "execution_count": 2
        }
      ]
    },
    {
      "cell_type": "code",
      "source": [
        "# Зависимая переменная 'apply' (категориальная) (3 уровня: \"unlikely\", \"somewhat likely\", \"very likely\")\n",
        "y = data['apply'].astype('category').cat.reorder_categories(\n",
        "    [\"unlikely\", \"somewhat likely\", \"very likely\"], ordered=False\n",
        ")\n",
        "\n",
        "# Независимые переменные: 'pared', 'public', 'gpa'\n",
        "X = data[['pared', 'public', 'gpa']]"
      ],
      "metadata": {
        "id": "2bhp_vk03WK3"
      },
      "execution_count": 4,
      "outputs": []
    },
    {
      "cell_type": "code",
      "source": [
        "# Оценим logit-модель упорядоченного выбора\n",
        "model = OrderedModel(y, X, distr='logit')\n",
        "result = model.fit(method='bfgs', disp=False)\n",
        "print(result.summary())"
      ],
      "metadata": {
        "colab": {
          "base_uri": "https://localhost:8080/"
        },
        "id": "AMUT7VYx3X-i",
        "outputId": "ef2a58e3-cdca-4144-8e32-c0c0cbae0744"
      },
      "execution_count": 5,
      "outputs": [
        {
          "output_type": "stream",
          "name": "stdout",
          "text": [
            "                             OrderedModel Results                             \n",
            "==============================================================================\n",
            "Dep. Variable:                  apply   Log-Likelihood:                -358.51\n",
            "Model:                   OrderedModel   AIC:                             727.0\n",
            "Method:            Maximum Likelihood   BIC:                             747.0\n",
            "Date:                Sun, 20 Apr 2025                                         \n",
            "Time:                        15:48:36                                         \n",
            "No. Observations:                 400                                         \n",
            "Df Residuals:                     395                                         \n",
            "Df Model:                           3                                         \n",
            "===============================================================================================\n",
            "                                  coef    std err          z      P>|z|      [0.025      0.975]\n",
            "-----------------------------------------------------------------------------------------------\n",
            "pared                           1.0476      0.266      3.942      0.000       0.527       1.569\n",
            "public                         -0.0586      0.298     -0.197      0.844      -0.642       0.525\n",
            "gpa                             0.6158      0.261      2.363      0.018       0.105       1.127\n",
            "unlikely/somewhat likely        2.2035      0.780      2.827      0.005       0.676       3.731\n",
            "somewhat likely/very likely     0.7398      0.080      9.236      0.000       0.583       0.897\n",
            "===============================================================================================\n"
          ]
        },
        {
          "output_type": "stream",
          "name": "stderr",
          "text": [
            "/usr/local/lib/python3.11/dist-packages/statsmodels/miscmodels/ordinal_model.py:205: Warning: the endog has ordered == False, risk of capturing a wrong order for the categories. ordered == True preferred.\n",
            "  warnings.warn(\"the endog has ordered == False, \"\n"
          ]
        }
      ]
    },
    {
      "cell_type": "markdown",
      "source": [
        "Рассчитаем отношение шансов."
      ],
      "metadata": {
        "id": "xpq83-NP6Dua"
      }
    },
    {
      "cell_type": "code",
      "source": [
        "# Отношения шансов (OR) = exp(coef)\n",
        "odds_ratios = pd.DataFrame({\n",
        "    'OR': np.exp(result.params),\n",
        "    'P>|z|': result.pvalues,\n",
        "    'CI 2.5%': np.exp(result.conf_int()[0]),\n",
        "    'CI 97.5%': np.exp(result.conf_int()[1]),\n",
        "})\n",
        "print(\"\\nOdds Ratios (OR):\")\n",
        "print(odds_ratios)"
      ],
      "metadata": {
        "colab": {
          "base_uri": "https://localhost:8080/"
        },
        "id": "K2TxzOl34oBg",
        "outputId": "7f86fb11-499c-4c90-db54-dc49cf9ead42"
      },
      "execution_count": 6,
      "outputs": [
        {
          "output_type": "stream",
          "name": "stdout",
          "text": [
            "\n",
            "Odds Ratios (OR):\n",
            "                                   OR         P>|z|   CI 2.5%   CI 97.5%\n",
            "pared                        2.850901  8.093660e-05  1.693333   4.799784\n",
            "public                       0.943077  8.440140e-01  0.526030   1.690768\n",
            "gpa                          1.851167  1.813824e-02  1.110697   3.085287\n",
            "unlikely/somewhat likely     9.057094  4.702483e-03  1.965374  41.738085\n",
            "somewhat likely/very likely  2.095426  2.551448e-20  1.791009   2.451586\n"
          ]
        }
      ]
    },
    {
      "cell_type": "markdown",
      "source": [
        "Интерпретация предельных эффектов на примере переменной **gpa**:\n",
        "\n",
        "при увеличении среднего балла (gpa) на одну единицу шансы попадания в категорию \"очень вероятно\" (very likely) по сравнению с объединёнными категориями \"маловероятно\" и \"отчасти вероятно\" (unlikely + somewhat likely) возрастают в 1.85 раза при фиксированных остальных переменных.\n",
        "\n",
        "Если предположению о пропорциональности шансов выполнено, то такое же увеличение (в 1.85 раза) наблюдается между категорией \"маловероятно\" (unlikely) и объединёнными категориями \"отчасти вероятно\" и \"очень вероятно\" (somewhat likely + very likely)."
      ],
      "metadata": {
        "id": "qexATWcy6Ht1"
      }
    },
    {
      "cell_type": "markdown",
      "source": [
        "Для модели упорядоченного выбора должно выполняться предположение о пропорциональности шансов (parallel regression assumption). Оно значит следующее: **коэффициенты модели упорядоченного выбора одинаковы для всех границ категорий зависимой переменной (влияние предикторов на все возможные переходы между категориями одинаково).**\n",
        "\n",
        "Для проверки используется тест Бранта. В Python отсутствует реализация теста Бранта. Однако его можно проделать вручную.\n",
        "\n",
        "**Алгоритм:**\n",
        "* Оцениваем серию бинарных логистических регрессий для каждой границы категорий\n",
        "зависимой переменной.\n",
        "* Сравниваем коэффициенты моделей между собой. Если они статистически не различаются — предположение выполняется.\n",
        "* Используем тест Вальда (Wald test) или критерий отношения правдоподобий (Likelihood Ratio)."
      ],
      "metadata": {
        "id": "q_XRAnwo4uMm"
      }
    },
    {
      "cell_type": "code",
      "source": [
        "# Тест Бранта (ручная реализация через тест Вальда)\n",
        "# 1. Разбиваем зависимую переменную на бинарные категории\n",
        "# Для 'apply':\n",
        "#   - y1 = 1 если apply > \"unlikely\" (т.е. \"somewhat likely\" или \"very likely\")\n",
        "#   - y2 = 1 если apply > \"somewhat likely\" (т.е. \"very likely\")\n",
        "data['y1'] = (data['apply'].cat.codes > 0).astype(int)  # сравниваем: unlikely vs (somewhat + very)\n",
        "data['y2'] = (data['apply'].cat.codes > 1).astype(int)  # сравниваем: (unlikely + somewhat) vs very"
      ],
      "metadata": {
        "id": "bv3yhId_4s0K"
      },
      "execution_count": 8,
      "outputs": []
    },
    {
      "cell_type": "code",
      "source": [
        "from statsmodels.formula.api import logit\n",
        "# 2. Оцениваем две бинарные логистические регрессии\n",
        "model1 = logit('y1 ~ pared + public + gpa', data=data).fit(disp=0)\n",
        "model2 = logit('y2 ~ pared + public + gpa', data=data).fit(disp=0)"
      ],
      "metadata": {
        "id": "NTGcorYP4w-l"
      },
      "execution_count": 9,
      "outputs": []
    },
    {
      "cell_type": "code",
      "source": [
        "# 3. Тест Вальда на равенство коэффициентов (аналог теста Бранта)\n",
        "from scipy.stats import chi2\n",
        "def brant_test(model1, model2):\n",
        "    delta = model1.params - model2.params\n",
        "    cov = model1.cov_params() + model2.cov_params()  # упрощенное предположение\n",
        "    wald_stat = delta.T @ np.linalg.inv(cov) @ delta\n",
        "    p_value = chi2.sf(wald_stat, df=len(delta))\n",
        "    return wald_stat, p_value\n",
        "\n",
        "wald_stat, p_value = brant_test(model1, model2)\n",
        "print(f\"Brant Test (Wald statistic): {wald_stat:.4f}, p-value: {p_value:.4f}\")"
      ],
      "metadata": {
        "colab": {
          "base_uri": "https://localhost:8080/"
        },
        "id": "hV73Y5204yre",
        "outputId": "da5fe0f4-6879-4b1d-8f04-ec8ec99e411c"
      },
      "execution_count": 10,
      "outputs": [
        {
          "output_type": "stream",
          "name": "stdout",
          "text": [
            "Brant Test (Wald statistic): 107.0425, p-value: 0.0000\n"
          ]
        }
      ]
    },
    {
      "cell_type": "markdown",
      "source": [
        "Так как p-value < 0.05, то гипотеза $H_1$ не отвергается, то есть предположение о пропорциональных шансах нарушено. Возможно, стоит использовать Generalized Ordered Logit (непараметрическую версию)."
      ],
      "metadata": {
        "id": "TazgUDvF44IX"
      }
    },
    {
      "cell_type": "code",
      "source": [
        "# Получаем предсказанные вероятности исходов для всех наблюдений\n",
        "pred_probs = result.model.predict(result.params, result.model.exog)\n",
        "pred_probs"
      ],
      "metadata": {
        "colab": {
          "base_uri": "https://localhost:8080/"
        },
        "id": "NOcGQxYU43Bu",
        "outputId": "9100f3f8-cad4-4e88-af39-de8698509927"
      },
      "execution_count": 12,
      "outputs": [
        {
          "output_type": "execute_result",
          "data": {
            "text/plain": [
              "array([[0.54884071, 0.35932276, 0.09183653],\n",
              "       [0.30558191, 0.47594216, 0.21847593],\n",
              "       [0.22938356, 0.47819057, 0.29242587],\n",
              "       ...,\n",
              "       [0.69380357, 0.25470075, 0.05149568],\n",
              "       [0.54884071, 0.35932276, 0.09183653],\n",
              "       [0.50896793, 0.38494062, 0.10609145]])"
            ]
          },
          "metadata": {},
          "execution_count": 12
        }
      ]
    },
    {
      "cell_type": "markdown",
      "source": [
        "Теперь давайте рассчитаем предельные эффекты на вероятность выбора каждой из категорий."
      ],
      "metadata": {
        "id": "3LFdeqkE5z60"
      }
    },
    {
      "cell_type": "code",
      "source": [
        "# Категории зависимой переменной\n",
        "categories = ['unlikely', 'somewhat likely', 'very likely']\n",
        "\n",
        "# Функция для расчета предельных эффектов\n",
        "def calculate_margeff(model, result, delta=1e-5):\n",
        "    n_vars = model.exog.shape[1]  # Число регрессоров\n",
        "    n_cats = len(categories)\n",
        "    margeff = np.zeros((n_vars, n_cats))\n",
        "\n",
        "    # Базовые вероятности\n",
        "    base_probs = result.predict()\n",
        "\n",
        "    for i in range(n_vars):\n",
        "        # Создаем измененные данные\n",
        "        X_high = model.exog.copy()\n",
        "        X_high[:, i] += delta\n",
        "\n",
        "        # Новые вероятности\n",
        "        probs_high = result.model.predict(result.params, X_high)\n",
        "\n",
        "        # Предельный эффект\n",
        "        margeff[i] = (probs_high - base_probs).mean(axis=0) / delta\n",
        "\n",
        "    return margeff\n",
        "\n",
        "# Расчет и вывод результатов\n",
        "margeff = calculate_margeff(model, result)\n",
        "margeff"
      ],
      "metadata": {
        "colab": {
          "base_uri": "https://localhost:8080/"
        },
        "id": "SJZwSzc6474I",
        "outputId": "588c4ea6-b28b-446f-adb1-fb05b29f2589"
      },
      "execution_count": 13,
      "outputs": [
        {
          "output_type": "execute_result",
          "data": {
            "text/plain": [
              "array([[-0.24536074,  0.1537694 ,  0.09159134],\n",
              "       [ 0.01372596, -0.00860314, -0.00512283],\n",
              "       [-0.14439455,  0.09050476,  0.05388979]])"
            ]
          },
          "metadata": {},
          "execution_count": 13
        }
      ]
    }
  ]
}