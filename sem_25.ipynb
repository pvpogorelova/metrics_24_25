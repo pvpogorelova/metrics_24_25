{
  "nbformat": 4,
  "nbformat_minor": 0,
  "metadata": {
    "colab": {
      "provenance": [],
      "authorship_tag": "ABX9TyP70viUetcQL0xkx+9eHrKN",
      "include_colab_link": true
    },
    "kernelspec": {
      "name": "python3",
      "display_name": "Python 3"
    },
    "language_info": {
      "name": "python"
    }
  },
  "cells": [
    {
      "cell_type": "markdown",
      "metadata": {
        "id": "view-in-github",
        "colab_type": "text"
      },
      "source": [
        "<a href=\"https://colab.research.google.com/github/pvpogorelova/metrics_24_25/blob/main/sem_25.ipynb\" target=\"_parent\"><img src=\"https://colab.research.google.com/assets/colab-badge.svg\" alt=\"Open In Colab\"/></a>"
      ]
    },
    {
      "cell_type": "markdown",
      "source": [
        "# **Модели цензуированных данных.**"
      ],
      "metadata": {
        "id": "3nJTSUaY8m6L"
      }
    },
    {
      "cell_type": "code",
      "execution_count": 1,
      "metadata": {
        "colab": {
          "base_uri": "https://localhost:8080/"
        },
        "id": "Endj9UwxRgew",
        "outputId": "db0c4ea0-d2e3-40ff-ef92-cfdbca39fce3"
      },
      "outputs": [
        {
          "output_type": "stream",
          "name": "stdout",
          "text": [
            "Collecting py4etrics\n",
            "  Downloading py4etrics-0.1.9-py2.py3-none-any.whl.metadata (1.8 kB)\n",
            "Downloading py4etrics-0.1.9-py2.py3-none-any.whl (19 kB)\n",
            "Installing collected packages: py4etrics\n",
            "Successfully installed py4etrics-0.1.9\n",
            "Collecting wooldridge\n",
            "  Downloading wooldridge-0.4.5-py3-none-any.whl.metadata (2.6 kB)\n",
            "Requirement already satisfied: pandas in /usr/local/lib/python3.11/dist-packages (from wooldridge) (2.2.2)\n",
            "Requirement already satisfied: numpy>=1.23.2 in /usr/local/lib/python3.11/dist-packages (from pandas->wooldridge) (2.0.2)\n",
            "Requirement already satisfied: python-dateutil>=2.8.2 in /usr/local/lib/python3.11/dist-packages (from pandas->wooldridge) (2.8.2)\n",
            "Requirement already satisfied: pytz>=2020.1 in /usr/local/lib/python3.11/dist-packages (from pandas->wooldridge) (2025.2)\n",
            "Requirement already satisfied: tzdata>=2022.7 in /usr/local/lib/python3.11/dist-packages (from pandas->wooldridge) (2025.2)\n",
            "Requirement already satisfied: six>=1.5 in /usr/local/lib/python3.11/dist-packages (from python-dateutil>=2.8.2->pandas->wooldridge) (1.17.0)\n",
            "Downloading wooldridge-0.4.5-py3-none-any.whl (5.1 MB)\n",
            "\u001b[2K   \u001b[90m━━━━━━━━━━━━━━━━━━━━━━━━━━━━━━━━━━━━━━━━\u001b[0m \u001b[32m5.1/5.1 MB\u001b[0m \u001b[31m21.6 MB/s\u001b[0m eta \u001b[36m0:00:00\u001b[0m\n",
            "\u001b[?25hInstalling collected packages: wooldridge\n",
            "Successfully installed wooldridge-0.4.5\n"
          ]
        }
      ],
      "source": [
        "!pip install py4etrics # tobit, heckit\n",
        "!pip install wooldridge # datasets"
      ]
    },
    {
      "cell_type": "code",
      "source": [
        "from numpy import log, exp, cos, sin, sqrt, max, min\n",
        "import numpy as np\n",
        "import pandas as pd\n",
        "import statsmodels.formula.api as smf\n",
        "from scipy.stats import norm\n",
        "import patsy\n",
        "\n",
        "from py4etrics.truncreg import Truncreg\n",
        "from py4etrics.tobit import Tobit\n",
        "from py4etrics.heckit import Heckit\n",
        "from py4etrics.hetero_test import het_test_probit\n",
        "\n",
        "import wooldridge"
      ],
      "metadata": {
        "id": "Ijyzpc6lRxhc"
      },
      "execution_count": 2,
      "outputs": []
    },
    {
      "cell_type": "markdown",
      "source": [
        "Датасет **htv** из пакета **wooldridge** в Python содержит данные о заработной плате и образовании, используемые в эконометрическом анализе. Этот датасет часто применяется для изучения взаимосвязи между уровнем образования, профессиональной подготовкой и доходами."
      ],
      "metadata": {
        "id": "enTF8Z1o1CeC"
      }
    },
    {
      "cell_type": "markdown",
      "source": [
        "**Описание переменных**\n",
        "\n",
        "Датасет включает следующие основные переменные:\n",
        "\n",
        "* wage – почасовая заработная плата.\n",
        "\n",
        "* abil – показатель способностей (например, результаты тестов).\n",
        "\n",
        "* educ – количество лет образования.\n",
        "\n",
        "* exper – опыт работы (в годах).\n",
        "\n",
        "* tenure – стаж на текущем месте работы (в годах).\n",
        "\n",
        "* male – бинарная переменная (1 = мужчина, 0 = женщина).\n",
        "\n",
        "* married – бинарная переменная (1 = женат/замужем, 0 = нет).\n",
        "\n",
        "* south – бинарная переменная (1 = проживание на юге США, 0 = нет).\n",
        "\n",
        "* urban – бинарная переменная (1 = проживание в городе, 0 = нет)."
      ],
      "metadata": {
        "id": "DmLrUI-PFCUo"
      }
    },
    {
      "cell_type": "code",
      "source": [
        "htv = wooldridge.data('htv')\n",
        "wooldridge.data('htv', description=True)"
      ],
      "metadata": {
        "colab": {
          "base_uri": "https://localhost:8080/"
        },
        "id": "AQmAfuAhR0hW",
        "outputId": "e77899aa-0498-4f6e-c031-8a7316ed2f01"
      },
      "execution_count": 3,
      "outputs": [
        {
          "output_type": "stream",
          "name": "stdout",
          "text": [
            "name of dataset: htv\n",
            "no of variables: 23\n",
            "no of observations: 1230\n",
            "\n",
            "+----------+---------------------------------+\n",
            "| variable | label                           |\n",
            "+----------+---------------------------------+\n",
            "| wage     | hourly wage, 1991               |\n",
            "| abil     | abil. measure, not standardized |\n",
            "| educ     | highest grade completed by 1991 |\n",
            "| ne       | =1 if in northeast, 1991        |\n",
            "| nc       | =1 if in nrthcntrl, 1991        |\n",
            "| west     | =1 if in west, 1991             |\n",
            "| south    | =1 if in south, 1991            |\n",
            "| exper    | potential experience            |\n",
            "| motheduc | highest grade, mother           |\n",
            "| fatheduc | highest grade, father           |\n",
            "| brkhme14 | =1 if broken home, age 14       |\n",
            "| sibs     | number of siblings              |\n",
            "| urban    | =1 if in urban area, 1991       |\n",
            "| ne18     | =1 if in NE, age 18             |\n",
            "| nc18     | =1 if in NC, age 18             |\n",
            "| south18  | =1 if in south, age 18          |\n",
            "| west18   | =1 if in west, age 18           |\n",
            "| urban18  | =1 if in urban area, age 18     |\n",
            "| tuit17   | college tuition, age 17         |\n",
            "| tuit18   | college tuition, age 18         |\n",
            "| lwage    | log(wage)                       |\n",
            "| expersq  | exper^2                         |\n",
            "| ctuit    | tuit18 - tuit17                 |\n",
            "+----------+---------------------------------+\n",
            "\n",
            "J.J. Heckman, J.L. Tobias, and E. Vytlacil (2003), “Simple Estimators\n",
            "for Treatment Parameters in a Latent-Variable Framework,” Review of\n",
            "Economics and Statistics 85, 748-755. Professor Tobias kindly provided\n",
            "the data, which were obtained from the 1991 National Longitudinal\n",
            "Survey of Youth. All people in the sample are males age 26 to 34. For\n",
            "confidentiality reasons, I have included only a subset of the\n",
            "variables used by the authors.\n"
          ]
        }
      ]
    },
    {
      "cell_type": "code",
      "source": [
        "htv.head(5)"
      ],
      "metadata": {
        "colab": {
          "base_uri": "https://localhost:8080/",
          "height": 255
        },
        "id": "GKb_QN7nR3OE",
        "outputId": "0746eebf-2898-43a3-9e64-71e5fd0a4af9"
      },
      "execution_count": 4,
      "outputs": [
        {
          "output_type": "execute_result",
          "data": {
            "text/plain": [
              "        wage      abil  educ  ne  nc  west  south  exper  motheduc  fatheduc  \\\n",
              "0  12.019231  5.027738    15   0   0     1      0      9        12        12   \n",
              "1   8.912656  2.037170    13   1   0     0      0      8        12        10   \n",
              "2  15.514334  2.475895    15   1   0     0      0     11        12        16   \n",
              "3  13.333333  3.609240    15   1   0     0      0      6        12        12   \n",
              "4  11.070110  2.636546    13   1   0     0      0     15        12        15   \n",
              "\n",
              "   ...  ne18  nc18  south18  west18  urban18    tuit17     tuit18     lwage  \\\n",
              "0  ...     1     0        0       0        1  7.582914   7.260242  2.486508   \n",
              "1  ...     1     0        0       0        1  8.595144   9.499537  2.187472   \n",
              "2  ...     1     0        0       0        1  7.311346   7.311346  2.741764   \n",
              "3  ...     1     0        0       0        1  9.499537  10.162070  2.590267   \n",
              "4  ...     1     0        0       0        1  7.311346   7.311346  2.404249   \n",
              "\n",
              "   expersq     ctuit  \n",
              "0       81 -0.322671  \n",
              "1       64  0.904392  \n",
              "2      121  0.000000  \n",
              "3       36  0.662534  \n",
              "4      225  0.000000  \n",
              "\n",
              "[5 rows x 23 columns]"
            ],
            "text/html": [
              "\n",
              "  <div id=\"df-3148bca3-29fd-4dad-947d-8063936b843d\" class=\"colab-df-container\">\n",
              "    <div>\n",
              "<style scoped>\n",
              "    .dataframe tbody tr th:only-of-type {\n",
              "        vertical-align: middle;\n",
              "    }\n",
              "\n",
              "    .dataframe tbody tr th {\n",
              "        vertical-align: top;\n",
              "    }\n",
              "\n",
              "    .dataframe thead th {\n",
              "        text-align: right;\n",
              "    }\n",
              "</style>\n",
              "<table border=\"1\" class=\"dataframe\">\n",
              "  <thead>\n",
              "    <tr style=\"text-align: right;\">\n",
              "      <th></th>\n",
              "      <th>wage</th>\n",
              "      <th>abil</th>\n",
              "      <th>educ</th>\n",
              "      <th>ne</th>\n",
              "      <th>nc</th>\n",
              "      <th>west</th>\n",
              "      <th>south</th>\n",
              "      <th>exper</th>\n",
              "      <th>motheduc</th>\n",
              "      <th>fatheduc</th>\n",
              "      <th>...</th>\n",
              "      <th>ne18</th>\n",
              "      <th>nc18</th>\n",
              "      <th>south18</th>\n",
              "      <th>west18</th>\n",
              "      <th>urban18</th>\n",
              "      <th>tuit17</th>\n",
              "      <th>tuit18</th>\n",
              "      <th>lwage</th>\n",
              "      <th>expersq</th>\n",
              "      <th>ctuit</th>\n",
              "    </tr>\n",
              "  </thead>\n",
              "  <tbody>\n",
              "    <tr>\n",
              "      <th>0</th>\n",
              "      <td>12.019231</td>\n",
              "      <td>5.027738</td>\n",
              "      <td>15</td>\n",
              "      <td>0</td>\n",
              "      <td>0</td>\n",
              "      <td>1</td>\n",
              "      <td>0</td>\n",
              "      <td>9</td>\n",
              "      <td>12</td>\n",
              "      <td>12</td>\n",
              "      <td>...</td>\n",
              "      <td>1</td>\n",
              "      <td>0</td>\n",
              "      <td>0</td>\n",
              "      <td>0</td>\n",
              "      <td>1</td>\n",
              "      <td>7.582914</td>\n",
              "      <td>7.260242</td>\n",
              "      <td>2.486508</td>\n",
              "      <td>81</td>\n",
              "      <td>-0.322671</td>\n",
              "    </tr>\n",
              "    <tr>\n",
              "      <th>1</th>\n",
              "      <td>8.912656</td>\n",
              "      <td>2.037170</td>\n",
              "      <td>13</td>\n",
              "      <td>1</td>\n",
              "      <td>0</td>\n",
              "      <td>0</td>\n",
              "      <td>0</td>\n",
              "      <td>8</td>\n",
              "      <td>12</td>\n",
              "      <td>10</td>\n",
              "      <td>...</td>\n",
              "      <td>1</td>\n",
              "      <td>0</td>\n",
              "      <td>0</td>\n",
              "      <td>0</td>\n",
              "      <td>1</td>\n",
              "      <td>8.595144</td>\n",
              "      <td>9.499537</td>\n",
              "      <td>2.187472</td>\n",
              "      <td>64</td>\n",
              "      <td>0.904392</td>\n",
              "    </tr>\n",
              "    <tr>\n",
              "      <th>2</th>\n",
              "      <td>15.514334</td>\n",
              "      <td>2.475895</td>\n",
              "      <td>15</td>\n",
              "      <td>1</td>\n",
              "      <td>0</td>\n",
              "      <td>0</td>\n",
              "      <td>0</td>\n",
              "      <td>11</td>\n",
              "      <td>12</td>\n",
              "      <td>16</td>\n",
              "      <td>...</td>\n",
              "      <td>1</td>\n",
              "      <td>0</td>\n",
              "      <td>0</td>\n",
              "      <td>0</td>\n",
              "      <td>1</td>\n",
              "      <td>7.311346</td>\n",
              "      <td>7.311346</td>\n",
              "      <td>2.741764</td>\n",
              "      <td>121</td>\n",
              "      <td>0.000000</td>\n",
              "    </tr>\n",
              "    <tr>\n",
              "      <th>3</th>\n",
              "      <td>13.333333</td>\n",
              "      <td>3.609240</td>\n",
              "      <td>15</td>\n",
              "      <td>1</td>\n",
              "      <td>0</td>\n",
              "      <td>0</td>\n",
              "      <td>0</td>\n",
              "      <td>6</td>\n",
              "      <td>12</td>\n",
              "      <td>12</td>\n",
              "      <td>...</td>\n",
              "      <td>1</td>\n",
              "      <td>0</td>\n",
              "      <td>0</td>\n",
              "      <td>0</td>\n",
              "      <td>1</td>\n",
              "      <td>9.499537</td>\n",
              "      <td>10.162070</td>\n",
              "      <td>2.590267</td>\n",
              "      <td>36</td>\n",
              "      <td>0.662534</td>\n",
              "    </tr>\n",
              "    <tr>\n",
              "      <th>4</th>\n",
              "      <td>11.070110</td>\n",
              "      <td>2.636546</td>\n",
              "      <td>13</td>\n",
              "      <td>1</td>\n",
              "      <td>0</td>\n",
              "      <td>0</td>\n",
              "      <td>0</td>\n",
              "      <td>15</td>\n",
              "      <td>12</td>\n",
              "      <td>15</td>\n",
              "      <td>...</td>\n",
              "      <td>1</td>\n",
              "      <td>0</td>\n",
              "      <td>0</td>\n",
              "      <td>0</td>\n",
              "      <td>1</td>\n",
              "      <td>7.311346</td>\n",
              "      <td>7.311346</td>\n",
              "      <td>2.404249</td>\n",
              "      <td>225</td>\n",
              "      <td>0.000000</td>\n",
              "    </tr>\n",
              "  </tbody>\n",
              "</table>\n",
              "<p>5 rows × 23 columns</p>\n",
              "</div>\n",
              "    <div class=\"colab-df-buttons\">\n",
              "\n",
              "  <div class=\"colab-df-container\">\n",
              "    <button class=\"colab-df-convert\" onclick=\"convertToInteractive('df-3148bca3-29fd-4dad-947d-8063936b843d')\"\n",
              "            title=\"Convert this dataframe to an interactive table.\"\n",
              "            style=\"display:none;\">\n",
              "\n",
              "  <svg xmlns=\"http://www.w3.org/2000/svg\" height=\"24px\" viewBox=\"0 -960 960 960\">\n",
              "    <path d=\"M120-120v-720h720v720H120Zm60-500h600v-160H180v160Zm220 220h160v-160H400v160Zm0 220h160v-160H400v160ZM180-400h160v-160H180v160Zm440 0h160v-160H620v160ZM180-180h160v-160H180v160Zm440 0h160v-160H620v160Z\"/>\n",
              "  </svg>\n",
              "    </button>\n",
              "\n",
              "  <style>\n",
              "    .colab-df-container {\n",
              "      display:flex;\n",
              "      gap: 12px;\n",
              "    }\n",
              "\n",
              "    .colab-df-convert {\n",
              "      background-color: #E8F0FE;\n",
              "      border: none;\n",
              "      border-radius: 50%;\n",
              "      cursor: pointer;\n",
              "      display: none;\n",
              "      fill: #1967D2;\n",
              "      height: 32px;\n",
              "      padding: 0 0 0 0;\n",
              "      width: 32px;\n",
              "    }\n",
              "\n",
              "    .colab-df-convert:hover {\n",
              "      background-color: #E2EBFA;\n",
              "      box-shadow: 0px 1px 2px rgba(60, 64, 67, 0.3), 0px 1px 3px 1px rgba(60, 64, 67, 0.15);\n",
              "      fill: #174EA6;\n",
              "    }\n",
              "\n",
              "    .colab-df-buttons div {\n",
              "      margin-bottom: 4px;\n",
              "    }\n",
              "\n",
              "    [theme=dark] .colab-df-convert {\n",
              "      background-color: #3B4455;\n",
              "      fill: #D2E3FC;\n",
              "    }\n",
              "\n",
              "    [theme=dark] .colab-df-convert:hover {\n",
              "      background-color: #434B5C;\n",
              "      box-shadow: 0px 1px 3px 1px rgba(0, 0, 0, 0.15);\n",
              "      filter: drop-shadow(0px 1px 2px rgba(0, 0, 0, 0.3));\n",
              "      fill: #FFFFFF;\n",
              "    }\n",
              "  </style>\n",
              "\n",
              "    <script>\n",
              "      const buttonEl =\n",
              "        document.querySelector('#df-3148bca3-29fd-4dad-947d-8063936b843d button.colab-df-convert');\n",
              "      buttonEl.style.display =\n",
              "        google.colab.kernel.accessAllowed ? 'block' : 'none';\n",
              "\n",
              "      async function convertToInteractive(key) {\n",
              "        const element = document.querySelector('#df-3148bca3-29fd-4dad-947d-8063936b843d');\n",
              "        const dataTable =\n",
              "          await google.colab.kernel.invokeFunction('convertToInteractive',\n",
              "                                                    [key], {});\n",
              "        if (!dataTable) return;\n",
              "\n",
              "        const docLinkHtml = 'Like what you see? Visit the ' +\n",
              "          '<a target=\"_blank\" href=https://colab.research.google.com/notebooks/data_table.ipynb>data table notebook</a>'\n",
              "          + ' to learn more about interactive tables.';\n",
              "        element.innerHTML = '';\n",
              "        dataTable['output_type'] = 'display_data';\n",
              "        await google.colab.output.renderOutput(dataTable, element);\n",
              "        const docLink = document.createElement('div');\n",
              "        docLink.innerHTML = docLinkHtml;\n",
              "        element.appendChild(docLink);\n",
              "      }\n",
              "    </script>\n",
              "  </div>\n",
              "\n",
              "\n",
              "<div id=\"df-e3cc7966-3b36-4b29-a76d-844f63428d1c\">\n",
              "  <button class=\"colab-df-quickchart\" onclick=\"quickchart('df-e3cc7966-3b36-4b29-a76d-844f63428d1c')\"\n",
              "            title=\"Suggest charts\"\n",
              "            style=\"display:none;\">\n",
              "\n",
              "<svg xmlns=\"http://www.w3.org/2000/svg\" height=\"24px\"viewBox=\"0 0 24 24\"\n",
              "     width=\"24px\">\n",
              "    <g>\n",
              "        <path d=\"M19 3H5c-1.1 0-2 .9-2 2v14c0 1.1.9 2 2 2h14c1.1 0 2-.9 2-2V5c0-1.1-.9-2-2-2zM9 17H7v-7h2v7zm4 0h-2V7h2v10zm4 0h-2v-4h2v4z\"/>\n",
              "    </g>\n",
              "</svg>\n",
              "  </button>\n",
              "\n",
              "<style>\n",
              "  .colab-df-quickchart {\n",
              "      --bg-color: #E8F0FE;\n",
              "      --fill-color: #1967D2;\n",
              "      --hover-bg-color: #E2EBFA;\n",
              "      --hover-fill-color: #174EA6;\n",
              "      --disabled-fill-color: #AAA;\n",
              "      --disabled-bg-color: #DDD;\n",
              "  }\n",
              "\n",
              "  [theme=dark] .colab-df-quickchart {\n",
              "      --bg-color: #3B4455;\n",
              "      --fill-color: #D2E3FC;\n",
              "      --hover-bg-color: #434B5C;\n",
              "      --hover-fill-color: #FFFFFF;\n",
              "      --disabled-bg-color: #3B4455;\n",
              "      --disabled-fill-color: #666;\n",
              "  }\n",
              "\n",
              "  .colab-df-quickchart {\n",
              "    background-color: var(--bg-color);\n",
              "    border: none;\n",
              "    border-radius: 50%;\n",
              "    cursor: pointer;\n",
              "    display: none;\n",
              "    fill: var(--fill-color);\n",
              "    height: 32px;\n",
              "    padding: 0;\n",
              "    width: 32px;\n",
              "  }\n",
              "\n",
              "  .colab-df-quickchart:hover {\n",
              "    background-color: var(--hover-bg-color);\n",
              "    box-shadow: 0 1px 2px rgba(60, 64, 67, 0.3), 0 1px 3px 1px rgba(60, 64, 67, 0.15);\n",
              "    fill: var(--button-hover-fill-color);\n",
              "  }\n",
              "\n",
              "  .colab-df-quickchart-complete:disabled,\n",
              "  .colab-df-quickchart-complete:disabled:hover {\n",
              "    background-color: var(--disabled-bg-color);\n",
              "    fill: var(--disabled-fill-color);\n",
              "    box-shadow: none;\n",
              "  }\n",
              "\n",
              "  .colab-df-spinner {\n",
              "    border: 2px solid var(--fill-color);\n",
              "    border-color: transparent;\n",
              "    border-bottom-color: var(--fill-color);\n",
              "    animation:\n",
              "      spin 1s steps(1) infinite;\n",
              "  }\n",
              "\n",
              "  @keyframes spin {\n",
              "    0% {\n",
              "      border-color: transparent;\n",
              "      border-bottom-color: var(--fill-color);\n",
              "      border-left-color: var(--fill-color);\n",
              "    }\n",
              "    20% {\n",
              "      border-color: transparent;\n",
              "      border-left-color: var(--fill-color);\n",
              "      border-top-color: var(--fill-color);\n",
              "    }\n",
              "    30% {\n",
              "      border-color: transparent;\n",
              "      border-left-color: var(--fill-color);\n",
              "      border-top-color: var(--fill-color);\n",
              "      border-right-color: var(--fill-color);\n",
              "    }\n",
              "    40% {\n",
              "      border-color: transparent;\n",
              "      border-right-color: var(--fill-color);\n",
              "      border-top-color: var(--fill-color);\n",
              "    }\n",
              "    60% {\n",
              "      border-color: transparent;\n",
              "      border-right-color: var(--fill-color);\n",
              "    }\n",
              "    80% {\n",
              "      border-color: transparent;\n",
              "      border-right-color: var(--fill-color);\n",
              "      border-bottom-color: var(--fill-color);\n",
              "    }\n",
              "    90% {\n",
              "      border-color: transparent;\n",
              "      border-bottom-color: var(--fill-color);\n",
              "    }\n",
              "  }\n",
              "</style>\n",
              "\n",
              "  <script>\n",
              "    async function quickchart(key) {\n",
              "      const quickchartButtonEl =\n",
              "        document.querySelector('#' + key + ' button');\n",
              "      quickchartButtonEl.disabled = true;  // To prevent multiple clicks.\n",
              "      quickchartButtonEl.classList.add('colab-df-spinner');\n",
              "      try {\n",
              "        const charts = await google.colab.kernel.invokeFunction(\n",
              "            'suggestCharts', [key], {});\n",
              "      } catch (error) {\n",
              "        console.error('Error during call to suggestCharts:', error);\n",
              "      }\n",
              "      quickchartButtonEl.classList.remove('colab-df-spinner');\n",
              "      quickchartButtonEl.classList.add('colab-df-quickchart-complete');\n",
              "    }\n",
              "    (() => {\n",
              "      let quickchartButtonEl =\n",
              "        document.querySelector('#df-e3cc7966-3b36-4b29-a76d-844f63428d1c button');\n",
              "      quickchartButtonEl.style.display =\n",
              "        google.colab.kernel.accessAllowed ? 'block' : 'none';\n",
              "    })();\n",
              "  </script>\n",
              "</div>\n",
              "    </div>\n",
              "  </div>\n"
            ],
            "application/vnd.google.colaboratory.intrinsic+json": {
              "type": "dataframe",
              "variable_name": "htv"
            }
          },
          "metadata": {},
          "execution_count": 4
        }
      ]
    },
    {
      "cell_type": "code",
      "source": [
        "# Для начала оценим с помощью МНК обычную модель регрессии для логарифма зарплаты\n",
        "formula= 'lwage ~ 1 + educ + abil + exper + nc + west + south + urban'\n",
        "\n",
        "res_ols = smf.ols(formula, data=htv).fit(cov_type='HC3') # всегда используем робастные стандартные ошибки\n",
        "print(res_ols.summary())"
      ],
      "metadata": {
        "colab": {
          "base_uri": "https://localhost:8080/"
        },
        "id": "vWEyulQYSEgZ",
        "outputId": "f5477076-5320-44d1-eba4-f6f742432c74"
      },
      "execution_count": 6,
      "outputs": [
        {
          "output_type": "stream",
          "name": "stdout",
          "text": [
            "                            OLS Regression Results                            \n",
            "==============================================================================\n",
            "Dep. Variable:                  lwage   R-squared:                       0.234\n",
            "Model:                            OLS   Adj. R-squared:                  0.229\n",
            "Method:                 Least Squares   F-statistic:                     43.89\n",
            "Date:                Sun, 20 Apr 2025   Prob (F-statistic):           1.57e-55\n",
            "Time:                        16:46:09   Log-Likelihood:                -939.84\n",
            "No. Observations:                1230   AIC:                             1896.\n",
            "Df Residuals:                    1222   BIC:                             1937.\n",
            "Df Model:                           7                                         \n",
            "Covariance Type:                  HC3                                         \n",
            "==============================================================================\n",
            "                 coef    std err          z      P>|z|      [0.025      0.975]\n",
            "------------------------------------------------------------------------------\n",
            "Intercept      0.3987      0.194      2.057      0.040       0.019       0.779\n",
            "educ           0.1037      0.011      9.778      0.000       0.083       0.125\n",
            "abil           0.0558      0.009      6.355      0.000       0.039       0.073\n",
            "exper          0.0448      0.007      6.464      0.000       0.031       0.058\n",
            "nc            -0.1397      0.038     -3.663      0.000      -0.215      -0.065\n",
            "west          -0.1282      0.050     -2.573      0.010      -0.226      -0.031\n",
            "south         -0.1227      0.043     -2.883      0.004      -0.206      -0.039\n",
            "urban          0.2268      0.042      5.447      0.000       0.145       0.308\n",
            "==============================================================================\n",
            "Omnibus:                       70.134   Durbin-Watson:                   1.903\n",
            "Prob(Omnibus):                  0.000   Jarque-Bera (JB):              145.589\n",
            "Skew:                          -0.368   Prob(JB):                     2.43e-32\n",
            "Kurtosis:                       4.516   Cond. No.                         214.\n",
            "==============================================================================\n",
            "\n",
            "Notes:\n",
            "[1] Standard Errors are heteroscedasticity robust (HC3)\n"
          ]
        }
      ]
    },
    {
      "cell_type": "markdown",
      "source": [
        "# **Урезанные данные.**"
      ],
      "metadata": {
        "id": "9OlBUCRlF3XT"
      }
    },
    {
      "cell_type": "markdown",
      "source": [
        "Теперь предположим, что при сборе данных в выбору входили только те, чьи доходы не выше max(htv['lwage']) В этом случае мы имеем дело с урезанной выборкой."
      ],
      "metadata": {
        "id": "w1ZzBDFOF6TX"
      }
    },
    {
      "cell_type": "code",
      "source": [
        "max(htv['lwage'])"
      ],
      "metadata": {
        "colab": {
          "base_uri": "https://localhost:8080/"
        },
        "id": "XvHAxV88SIW3",
        "outputId": "a5cd3600-a1c7-4195-d5df-a3fe02ce9128"
      },
      "execution_count": 7,
      "outputs": [
        {
          "output_type": "execute_result",
          "data": {
            "text/plain": [
              "4.514251708984375"
            ]
          },
          "metadata": {},
          "execution_count": 7
        }
      ]
    },
    {
      "cell_type": "markdown",
      "source": [
        "Как известно, если данные урезанные, то МНК оценки будут смещенными. И по идее должны отличаться от ММП оценок, которые в этом случае будут несмещенными. Оценим модель для урезанных данных с помощью ММП."
      ],
      "metadata": {
        "id": "MGBS4sHiGD3l"
      }
    },
    {
      "cell_type": "code",
      "source": [
        "formula = 'lwage ~ 1 + educ + abil + exper + nc + west + south + urban'\n",
        "\n",
        "res_trunc = Truncreg.from_formula(formula, data=htv, right=max(htv['lwage'])).fit()\n",
        "print(res_trunc.summary())\n",
        "\n",
        "# Сравните полученные результаты с результатами оценивания модели выше (МНК)"
      ],
      "metadata": {
        "colab": {
          "base_uri": "https://localhost:8080/"
        },
        "id": "gpQwygN8WsZ2",
        "outputId": "e8edb431-0db7-4a11-95ee-1d65afc8fe82"
      },
      "execution_count": 9,
      "outputs": [
        {
          "output_type": "stream",
          "name": "stdout",
          "text": [
            "Optimization terminated successfully.\n",
            "         Current function value: 0.763912\n",
            "         Iterations: 257\n",
            "         Function evaluations: 406\n",
            "                         Truncreg Regression Results                          \n",
            "==============================================================================\n",
            "Dep. Variable:                  lwage   Pseudo R-squ:                    0.148\n",
            "Model:                       Truncreg   Log-Likelihood:                 -939.6\n",
            "Method:            Maximum Likelihood   LL-Null:                       -1103.3\n",
            "Date:                Sun, 20 Apr 2025   LL-Ratio:                        327.3\n",
            "Time:                        16:47:53   LLR p-value:                     0.000\n",
            "No. Observations:                1230   AIC:                            1895.2\n",
            "Df Residuals:                    1222   BIC:                            1936.1\n",
            "Df Model:                           7   Covariance Type:             nonrobust\n",
            "==============================================================================\n",
            "                 coef    std err          z      P>|z|      [0.025      0.975]\n",
            "------------------------------------------------------------------------------\n",
            "Intercept      0.3946      0.185      2.136      0.033       0.033       0.757\n",
            "educ           0.1040      0.010     10.728      0.000       0.085       0.123\n",
            "abil           0.0558      0.008      6.575      0.000       0.039       0.072\n",
            "exper          0.0449      0.007      6.639      0.000       0.032       0.058\n",
            "nc            -0.1401      0.041     -3.452      0.001      -0.220      -0.061\n",
            "west          -0.1286      0.049     -2.647      0.008      -0.224      -0.033\n",
            "south         -0.1229      0.045     -2.750      0.006      -0.211      -0.035\n",
            "urban          0.2270      0.040      5.606      0.000       0.148       0.306\n",
            "Log(Sigma)    -0.6538      0.020    -32.239      0.000      -0.694      -0.614\n",
            "==============================================================================\n"
          ]
        }
      ]
    },
    {
      "cell_type": "code",
      "source": [
        "# Тестирование гипотез\n",
        "# Проверить гпиотезу о параметрах можно с помощью одного ихз следующих тестов: LR,LM,Wald.\n",
        "# Для примера проверим гипотезу вида \"educ+abil=exper\" с помощью теста Вальда\n",
        "print(res_trunc.wald_test('educ+abil=exper').summary())"
      ],
      "metadata": {
        "colab": {
          "base_uri": "https://localhost:8080/"
        },
        "id": "pibVkPJ4WuNB",
        "outputId": "f129d0f7-2d82-4c84-b43e-ee7fa1f018da"
      },
      "execution_count": 11,
      "outputs": [
        {
          "output_type": "stream",
          "name": "stdout",
          "text": [
            "<Wald test (chi2): statistic=[[233.21071339]], p-value=1.188940582819191e-52, df_denom=1>\n"
          ]
        },
        {
          "output_type": "stream",
          "name": "stderr",
          "text": [
            "/usr/local/lib/python3.11/dist-packages/statsmodels/base/model.py:1912: FutureWarning: The behavior of wald_test will change after 0.14 to returning scalar test statistic values. To get the future behavior now, set scalar to True. To silence this message while retaining the legacy behavior, set scalar to False.\n",
            "  warnings.warn(\n"
          ]
        }
      ]
    },
    {
      "cell_type": "markdown",
      "source": [
        "Так как p-value = 0, то гипотеза $H_1$ не отвергается, то есть сумма коэффиицентов при $educ$ и $abil$ не равна коэффициенту при $exper$ на любом разумном уровне значимости."
      ],
      "metadata": {
        "id": "rHMAzRLjGSEw"
      }
    },
    {
      "cell_type": "code",
      "source": [
        "# Прогнозные значения зависимой переменной и остатки модели\n",
        "y_hat = res_trunc.fittedvalues\n",
        "u_hat = res_trunc.resid"
      ],
      "metadata": {
        "id": "JNJ4yxkUWwPk"
      },
      "execution_count": 12,
      "outputs": []
    },
    {
      "cell_type": "markdown",
      "source": [
        "# **Модели цензурированных данных.**"
      ],
      "metadata": {
        "id": "dNqDXFB0Gmor"
      }
    },
    {
      "cell_type": "markdown",
      "source": [
        "**Tobit модель**"
      ],
      "metadata": {
        "id": "vHJS0fGHXFSz"
      }
    },
    {
      "cell_type": "markdown",
      "source": [
        "Датасет **mroz** из пакета **wooldridge** содержит данные о занятости и заработной плате женщин, собранные в рамках исследования рынка труда. Этот датасет часто используется в эконометрике для анализа факторов, влияющих на участие женщин в рабочей силе, а также для изучения гендерных различий в оплате труда."
      ],
      "metadata": {
        "id": "0IkMdxwoGuWn"
      }
    },
    {
      "cell_type": "markdown",
      "source": [
        "**Описание переменных**\n",
        "\n",
        "Основные переменные в датасете:\n",
        "\n",
        "* inlf (in labor force) – бинарная переменная (1 = женщина работает, 0 = не работает).\n",
        "\n",
        "* hours – количество отработанных часов в год.\n",
        "\n",
        "* kidslt6 – число детей младше 6 лет.\n",
        "\n",
        "* kidsge6 – число детей от 6 до 18 лет.\n",
        "\n",
        "* age – возраст женщины.\n",
        "\n",
        "* educ – количество лет образования.\n",
        "\n",
        "* wage – почасовая заработная плата (NA для неработающих).\n",
        "\n",
        "* repwage – предполагаемая заработная плата (на основе опроса).\n",
        "\n",
        "* hushrs – количество рабочих часов мужа в год.\n",
        "\n",
        "* husage – возраст мужа.\n",
        "\n",
        "* huseduc – образование мужа (годы).\n",
        "\n",
        "* huswage – почасовая зарплата мужа.\n",
        "\n",
        "* faminc – общий семейный доход.\n",
        "\n",
        "* mtr – предельная налоговая ставка.\n",
        "\n",
        "* exper – трудовой стаж (в годах).\n",
        "\n",
        "* expersq – квадрат стажа (exper^2)."
      ],
      "metadata": {
        "id": "XJ_bt2tcG9Yz"
      }
    },
    {
      "cell_type": "code",
      "source": [
        "mroz = wooldridge.data('mroz')\n",
        "wooldridge.data('mroz', description=True)"
      ],
      "metadata": {
        "colab": {
          "base_uri": "https://localhost:8080/"
        },
        "id": "rWN5qHOnXDWR",
        "outputId": "dedc05ab-1e6c-49c9-e39d-90faefc7ef7f"
      },
      "execution_count": 13,
      "outputs": [
        {
          "output_type": "stream",
          "name": "stdout",
          "text": [
            "name of dataset: mroz\n",
            "no of variables: 22\n",
            "no of observations: 753\n",
            "\n",
            "+----------+---------------------------------+\n",
            "| variable | label                           |\n",
            "+----------+---------------------------------+\n",
            "| inlf     | =1 if in lab frce, 1975         |\n",
            "| hours    | hours worked, 1975              |\n",
            "| kidslt6  | # kids < 6 years                |\n",
            "| kidsge6  | # kids 6-18                     |\n",
            "| age      | woman's age in yrs              |\n",
            "| educ     | years of schooling              |\n",
            "| wage     | est. wage from earn, hrs        |\n",
            "| repwage  | rep. wage at interview in 1976  |\n",
            "| hushrs   | hours worked by husband, 1975   |\n",
            "| husage   | husband's age                   |\n",
            "| huseduc  | husband's years of schooling    |\n",
            "| huswage  | husband's hourly wage, 1975     |\n",
            "| faminc   | family income, 1975             |\n",
            "| mtr      | fed. marg. tax rte facing woman |\n",
            "| motheduc | mother's years of schooling     |\n",
            "| fatheduc | father's years of schooling     |\n",
            "| unem     | unem. rate in county of resid.  |\n",
            "| city     | =1 if live in SMSA              |\n",
            "| exper    | actual labor mkt exper          |\n",
            "| nwifeinc | (faminc - wage*hours)/1000      |\n",
            "| lwage    | log(wage)                       |\n",
            "| expersq  | exper^2                         |\n",
            "+----------+---------------------------------+\n",
            "\n",
            "T.A. Mroz (1987), “The Sensitivity of an Empirical Model of Married\n",
            "Women’s Hours of Work to Economic and Statistical Assumptions,”\n",
            "Econometrica 55, 765-799. Professor Ernst R. Berndt, of MIT, kindly\n",
            "provided the data, which he obtained from Professor Mroz.\n"
          ]
        }
      ]
    },
    {
      "cell_type": "code",
      "source": [
        "# Создадим переменную, отвечающую за то, является ли наблюдение цензурированным\n",
        "# закодируем так: 0, если нецензурированное наблюдения; -1 (если цензурированное)\n",
        "# codes: 0 for non-censored part, -1 for censored part\n",
        "mroz['censor'] = 0\n",
        "mroz.loc[mroz['hours'] == 0, 'censor'] = -1"
      ],
      "metadata": {
        "id": "7mJcajSIXHNg"
      },
      "execution_count": 14,
      "outputs": []
    },
    {
      "cell_type": "code",
      "source": [
        "# Оценим tobit-модель\n",
        "formula = 'hours ~ 1 + nwifeinc + educ + exper + expersq + age + kidslt6 + kidsge6'\n",
        "\n",
        "res_tobit = Tobit.from_formula(formula,\n",
        "                               cens=mroz['censor'],\n",
        "                               left=0,\n",
        "                               data=mroz).fit()\n",
        "\n",
        "print(res_tobit.summary())"
      ],
      "metadata": {
        "colab": {
          "base_uri": "https://localhost:8080/"
        },
        "id": "yZIS4LijXOGe",
        "outputId": "e6fdd194-454b-4a98-81a9-bcbf07decf31"
      },
      "execution_count": 15,
      "outputs": [
        {
          "output_type": "stream",
          "name": "stdout",
          "text": [
            "Optimization terminated successfully.\n",
            "         Current function value: 5.071839\n",
            "         Iterations: 2472\n",
            "         Function evaluations: 3579\n",
            "                              Tobit Regression Results                             \n",
            "===================================================================================\n",
            "Dep. Variable:                       hours   Pseudo R-squ:                    0.034\n",
            "Method:                 Maximum Likelihood   Log-Likelihood:                -3819.1\n",
            "No. Observations:                      753   LL-Null:                       -3954.9\n",
            "No. Uncensored Obs:                    428   LL-Ratio:                        271.6\n",
            "No. Left-censored Obs:                 325   LLR p-value:                     0.000\n",
            "No. Right-censored Obs:                  0   AIC:                            7654.2\n",
            "Df Residuals:                          745   BIC:                            7691.2\n",
            "Df Model:                                7   Covariance Type:             nonrobust\n",
            "==============================================================================\n",
            "                 coef    std err          z      P>|z|      [0.025      0.975]\n",
            "------------------------------------------------------------------------------\n",
            "Intercept    965.3052    446.431      2.162      0.031      90.316    1840.294\n",
            "nwifeinc      -8.8142      4.459     -1.977      0.048     -17.554      -0.075\n",
            "educ          80.6456     21.583      3.737      0.000      38.343     122.948\n",
            "exper        131.5643     17.279      7.614      0.000      97.697     165.431\n",
            "expersq       -1.8642      0.538     -3.467      0.001      -2.918      -0.810\n",
            "age          -54.4050      7.418     -7.334      0.000     -68.945     -39.865\n",
            "kidslt6     -894.0218    111.878     -7.991      0.000   -1113.299    -674.745\n",
            "kidsge6      -16.2180     38.640     -0.420      0.675     -91.951      59.515\n",
            "Log(Sigma)     7.0229      0.037    189.514      0.000       6.950       7.096\n",
            "==============================================================================\n"
          ]
        }
      ]
    },
    {
      "cell_type": "code",
      "source": [
        "y_star_hat = res_tobit.fittedvalues # y* = X \\hat \\beta\n",
        "u_hat = res_tobit.resid # y - y*"
      ],
      "metadata": {
        "id": "5i9e-a_SXQTm"
      },
      "execution_count": 16,
      "outputs": []
    },
    {
      "cell_type": "markdown",
      "source": [
        "### **Модель Хекмана**"
      ],
      "metadata": {
        "id": "91Uetam_XWwh"
      }
    },
    {
      "cell_type": "code",
      "source": [
        "# Реализуем двухшаговую процедуру оценивания модели Хекмана\n",
        "# Шаг 1: Probit\n",
        "# Шаг 2: OLS on regressors + Inverse Mills Ratios\n",
        "y = mroz['lwage']\n",
        "# регрессия первого шага\n",
        "X1 = patsy.dmatrix('1 + educ + exper + expersq + nwifeinc + age + kidslt6 + kidsge6', mroz) # набор регрессоров, которые могут влиять на вероятность того, что женщина будет работать\n",
        "# регрессия второго шага\n",
        "X2 = patsy.dmatrix('1 + educ + exper + expersq', mroz) # набор регрессоров, которые могут влять на размер зарплаты"
      ],
      "metadata": {
        "id": "7ZrxyHUYXUnF"
      },
      "execution_count": 17,
      "outputs": []
    },
    {
      "cell_type": "code",
      "source": [
        "# Марица X2 должна идти перед X1\n",
        "res_heckit = Heckit(y, X2, X1).fit(cov_type_2 = 'HC3')\n",
        "print(res_heckit.summary())"
      ],
      "metadata": {
        "colab": {
          "base_uri": "https://localhost:8080/"
        },
        "id": "hy3t5WB1XZEJ",
        "outputId": "f3cbdccc-7ea2-49cd-9995-c4a08c9d07c3"
      },
      "execution_count": 18,
      "outputs": [
        {
          "output_type": "stream",
          "name": "stdout",
          "text": [
            "                           Heckit Regression Results                            \n",
            "================================================================================\n",
            "Dep. Variable:                    lwage   R-squared:                       0.156\n",
            "Model:                           Heckit   Adj. R-squared:                  0.150\n",
            "Method:                Heckman Two-Step   F-statistics:                   26.148\n",
            "Date:                  Sun, 20 Apr 2025   Prob (F-statistic):              0.000\n",
            "Time:                          16:53:37   Cov in 1st Stage:            nonrobust\n",
            "No. Total Obs.:                     753   Cov in 2nd Stage:                  HC3\n",
            "No. Censored Obs.:                  325                                         \n",
            "No. Uncensored Obs.:                428                                         \n",
            "==============================================================================\n",
            "                 coef    std err          z      P>|z|      [0.025      0.975]\n",
            "------------------------------------------------------------------------------\n",
            "const         -0.5781      0.305     -1.895      0.058      -1.176       0.020\n",
            "x1             0.1091      0.016      7.026      0.000       0.079       0.139\n",
            "x2             0.0439      0.016      2.699      0.007       0.012       0.076\n",
            "x3            -0.0009      0.000     -1.957      0.050      -0.002    1.15e-06\n",
            "================================================================================\n",
            "                   coef    std err          z      P>|z|      [0.025      0.975]\n",
            "--------------------------------------------------------------------------------\n",
            "z0_or_zconst     0.2701      0.509      0.531      0.595      -0.727       1.267\n",
            "z1               0.1309      0.025      5.183      0.000       0.081       0.180\n",
            "z2               0.1233      0.019      6.590      0.000       0.087       0.160\n",
            "z3              -0.0019      0.001     -3.145      0.002      -0.003      -0.001\n",
            "z4              -0.0120      0.005     -2.484      0.013      -0.022      -0.003\n",
            "z5              -0.0529      0.008     -6.235      0.000      -0.069      -0.036\n",
            "z6              -0.8683      0.119     -7.326      0.000      -1.101      -0.636\n",
            "z7               0.0360      0.043      0.828      0.408      -0.049       0.121\n",
            "================================================================================\n",
            "                   coef    std err          z      P>|z|      [0.025      0.975]\n",
            "--------------------------------------------------------------------------------\n",
            "IMR (Lambda)     0.0323      0.134      0.241      0.809      -0.230       0.294\n",
            "=====================================\n",
            "rho:                            0.049\n",
            "sigma:                          0.664\n",
            "=====================================\n",
            "\n",
            "First table are the estimates for the regression (response) equation.\n",
            "Second table are the estimates for the selection equation.\n",
            "Third table is the estimate for the coef of the inverse Mills ratio (Heckman's Lambda).\n"
          ]
        }
      ]
    },
    {
      "cell_type": "markdown",
      "source": [
        "Как можно заметить из таблицы выше, коэффициент перед IMR (Inverse Mill's Ratio, он же $\\lambda$ Хекмана) оказался статистически незначимым. Это означает, что эффект самоотбора отсутствует, можно оценивать модель для вероятности участия и интенсивности участия отдельно друг от друга.\n",
        "\n",
        "В модели Хекмана коэффициент перед $\\lambda$ - это ковариация ($\\sigma_{ɛu}$) между ошибками двух уравнений: участия и интенсивности. И $\\sigma_{ɛu} = \\rho*sigma$, где $sigma$ - это стандартное отклнение ошибки в уравнении интенсивности, то есть $sigma = \\sigma_{ɛ}$."
      ],
      "metadata": {
        "id": "54euLyRA6hXT"
      }
    },
    {
      "cell_type": "code",
      "source": [
        "# Можем проверить гипотезу H_0: exper=expersq=0, kidslt6=kidsge6 с помощью теста Вальда\n",
        "print(res_tobit.wald_test('exper=expersq=0, kidslt6=kidsge6').summary())"
      ],
      "metadata": {
        "id": "-hd52tl5Xnw6",
        "colab": {
          "base_uri": "https://localhost:8080/"
        },
        "outputId": "59602466-bcd3-466c-afbf-f4e9bbc358e6"
      },
      "execution_count": 19,
      "outputs": [
        {
          "output_type": "stream",
          "name": "stdout",
          "text": [
            "<Wald test (chi2): statistic=[[199.25009919]], p-value=6.1262329323939026e-43, df_denom=3>\n"
          ]
        },
        {
          "output_type": "stream",
          "name": "stderr",
          "text": [
            "/usr/local/lib/python3.11/dist-packages/statsmodels/base/model.py:1912: FutureWarning: The behavior of wald_test will change after 0.14 to returning scalar test statistic values. To get the future behavior now, set scalar to True. To silence this message while retaining the legacy behavior, set scalar to False.\n",
            "  warnings.warn(\n"
          ]
        }
      ]
    }
  ]
}