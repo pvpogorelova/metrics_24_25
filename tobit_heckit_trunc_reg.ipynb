{
  "nbformat": 4,
  "nbformat_minor": 0,
  "metadata": {
    "colab": {
      "provenance": [],
      "include_colab_link": true
    },
    "kernelspec": {
      "name": "python3",
      "display_name": "Python 3"
    },
    "language_info": {
      "name": "python"
    }
  },
  "cells": [
    {
      "cell_type": "markdown",
      "metadata": {
        "id": "view-in-github",
        "colab_type": "text"
      },
      "source": [
        "<a href=\"https://colab.research.google.com/github/pvpogorelova/metrics_24_25/blob/main/tobit_heckit_trunc_reg.ipynb\" target=\"_parent\"><img src=\"https://colab.research.google.com/assets/colab-badge.svg\" alt=\"Open In Colab\"/></a>"
      ]
    },
    {
      "cell_type": "code",
      "execution_count": 1,
      "metadata": {
        "id": "sb_FXNcplve0",
        "outputId": "c104a1af-e7ba-4e1b-ee33-958dc9c8dea7",
        "colab": {
          "base_uri": "https://localhost:8080/"
        }
      },
      "outputs": [
        {
          "output_type": "stream",
          "name": "stdout",
          "text": [
            "Collecting py4etrics\n",
            "  Downloading py4etrics-0.1.9-py2.py3-none-any.whl.metadata (1.8 kB)\n",
            "Downloading py4etrics-0.1.9-py2.py3-none-any.whl (19 kB)\n",
            "Installing collected packages: py4etrics\n",
            "Successfully installed py4etrics-0.1.9\n",
            "Collecting wooldridge\n",
            "  Downloading wooldridge-0.4.5-py3-none-any.whl.metadata (2.6 kB)\n",
            "Requirement already satisfied: pandas in /usr/local/lib/python3.11/dist-packages (from wooldridge) (2.2.2)\n",
            "Requirement already satisfied: numpy>=1.23.2 in /usr/local/lib/python3.11/dist-packages (from pandas->wooldridge) (2.0.2)\n",
            "Requirement already satisfied: python-dateutil>=2.8.2 in /usr/local/lib/python3.11/dist-packages (from pandas->wooldridge) (2.8.2)\n",
            "Requirement already satisfied: pytz>=2020.1 in /usr/local/lib/python3.11/dist-packages (from pandas->wooldridge) (2025.2)\n",
            "Requirement already satisfied: tzdata>=2022.7 in /usr/local/lib/python3.11/dist-packages (from pandas->wooldridge) (2025.2)\n",
            "Requirement already satisfied: six>=1.5 in /usr/local/lib/python3.11/dist-packages (from python-dateutil>=2.8.2->pandas->wooldridge) (1.17.0)\n",
            "Downloading wooldridge-0.4.5-py3-none-any.whl (5.1 MB)\n",
            "\u001b[2K   \u001b[90m━━━━━━━━━━━━━━━━━━━━━━━━━━━━━━━━━━━━━━━━\u001b[0m \u001b[32m5.1/5.1 MB\u001b[0m \u001b[31m31.8 MB/s\u001b[0m eta \u001b[36m0:00:00\u001b[0m\n",
            "\u001b[?25hInstalling collected packages: wooldridge\n",
            "Successfully installed wooldridge-0.4.5\n"
          ]
        }
      ],
      "source": [
        "!pip install py4etrics # tobit, heckit...\n",
        "!pip install wooldridge # datasets..."
      ]
    },
    {
      "cell_type": "markdown",
      "source": [
        "Links:\n",
        "\n",
        "* Good viz + code in R and stata:\n",
        "\n",
        "https://econ.pages.code.wm.edu/407/notes/docs/mle_heckman.html\n",
        "\n",
        "\n",
        "* Good code for heckit, tobit, truncated, user-friendly:\n",
        "\n",
        "https://github.com/Py4Etrics/py4etrics\n",
        "\n",
        "With good documentation:\n",
        "\n",
        "https://py4etrics-github-io.translate.goog/21_TruncregTobitHeckit.html?_x_tr_sl=ja&_x_tr_tl=en&_x_tr_hl=ru\n",
        "\n",
        "\n",
        "* Code for tobit only, used for comparison, less user-friendly:\n",
        "\n",
        "https://github.com/stnwanekezie/TobitRegression"
      ],
      "metadata": {
        "id": "Jhcz5N_MAFcM"
      }
    },
    {
      "cell_type": "code",
      "source": [
        "from numpy import log, exp, cos, sin, sqrt, max, min\n",
        "import numpy as np\n",
        "import pandas as pd\n",
        "import statsmodels.formula.api as smf\n",
        "from scipy.stats import norm\n",
        "import patsy\n",
        "\n",
        "from py4etrics.truncreg import Truncreg\n",
        "from py4etrics.tobit import Tobit\n",
        "from py4etrics.heckit import Heckit\n",
        "from py4etrics.hetero_test import het_test_probit\n",
        "\n",
        "import wooldridge"
      ],
      "metadata": {
        "id": "M36f0Tw2ly8L"
      },
      "execution_count": 2,
      "outputs": []
    },
    {
      "cell_type": "code",
      "source": [
        "htv = wooldridge.data('htv')\n",
        "wooldridge.data('htv', description=True)"
      ],
      "metadata": {
        "colab": {
          "base_uri": "https://localhost:8080/"
        },
        "id": "D8eqySJcl6Kb",
        "outputId": "e370b151-cdc7-46e8-83b5-d409f90d5fa4"
      },
      "execution_count": 3,
      "outputs": [
        {
          "output_type": "stream",
          "name": "stdout",
          "text": [
            "name of dataset: htv\n",
            "no of variables: 23\n",
            "no of observations: 1230\n",
            "\n",
            "+----------+---------------------------------+\n",
            "| variable | label                           |\n",
            "+----------+---------------------------------+\n",
            "| wage     | hourly wage, 1991               |\n",
            "| abil     | abil. measure, not standardized |\n",
            "| educ     | highest grade completed by 1991 |\n",
            "| ne       | =1 if in northeast, 1991        |\n",
            "| nc       | =1 if in nrthcntrl, 1991        |\n",
            "| west     | =1 if in west, 1991             |\n",
            "| south    | =1 if in south, 1991            |\n",
            "| exper    | potential experience            |\n",
            "| motheduc | highest grade, mother           |\n",
            "| fatheduc | highest grade, father           |\n",
            "| brkhme14 | =1 if broken home, age 14       |\n",
            "| sibs     | number of siblings              |\n",
            "| urban    | =1 if in urban area, 1991       |\n",
            "| ne18     | =1 if in NE, age 18             |\n",
            "| nc18     | =1 if in NC, age 18             |\n",
            "| south18  | =1 if in south, age 18          |\n",
            "| west18   | =1 if in west, age 18           |\n",
            "| urban18  | =1 if in urban area, age 18     |\n",
            "| tuit17   | college tuition, age 17         |\n",
            "| tuit18   | college tuition, age 18         |\n",
            "| lwage    | log(wage)                       |\n",
            "| expersq  | exper^2                         |\n",
            "| ctuit    | tuit18 - tuit17                 |\n",
            "+----------+---------------------------------+\n",
            "\n",
            "J.J. Heckman, J.L. Tobias, and E. Vytlacil (2003), “Simple Estimators\n",
            "for Treatment Parameters in a Latent-Variable Framework,” Review of\n",
            "Economics and Statistics 85, 748-755. Professor Tobias kindly provided\n",
            "the data, which were obtained from the 1991 National Longitudinal\n",
            "Survey of Youth. All people in the sample are males age 26 to 34. For\n",
            "confidentiality reasons, I have included only a subset of the\n",
            "variables used by the authors.\n"
          ]
        }
      ]
    },
    {
      "cell_type": "code",
      "source": [
        "htv.head(5)"
      ],
      "metadata": {
        "colab": {
          "base_uri": "https://localhost:8080/",
          "height": 255
        },
        "id": "Ngwlg5ual8ZJ",
        "outputId": "be729b34-f5ce-45e2-c34d-e76b0cd9176f"
      },
      "execution_count": 4,
      "outputs": [
        {
          "output_type": "execute_result",
          "data": {
            "text/plain": [
              "        wage      abil  educ  ne  nc  west  south  exper  motheduc  fatheduc  \\\n",
              "0  12.019231  5.027738    15   0   0     1      0      9        12        12   \n",
              "1   8.912656  2.037170    13   1   0     0      0      8        12        10   \n",
              "2  15.514334  2.475895    15   1   0     0      0     11        12        16   \n",
              "3  13.333333  3.609240    15   1   0     0      0      6        12        12   \n",
              "4  11.070110  2.636546    13   1   0     0      0     15        12        15   \n",
              "\n",
              "   ...  ne18  nc18  south18  west18  urban18    tuit17     tuit18     lwage  \\\n",
              "0  ...     1     0        0       0        1  7.582914   7.260242  2.486508   \n",
              "1  ...     1     0        0       0        1  8.595144   9.499537  2.187472   \n",
              "2  ...     1     0        0       0        1  7.311346   7.311346  2.741764   \n",
              "3  ...     1     0        0       0        1  9.499537  10.162070  2.590267   \n",
              "4  ...     1     0        0       0        1  7.311346   7.311346  2.404249   \n",
              "\n",
              "   expersq     ctuit  \n",
              "0       81 -0.322671  \n",
              "1       64  0.904392  \n",
              "2      121  0.000000  \n",
              "3       36  0.662534  \n",
              "4      225  0.000000  \n",
              "\n",
              "[5 rows x 23 columns]"
            ],
            "text/html": [
              "\n",
              "  <div id=\"df-b67d7613-45e7-4d77-85d0-ec0388d1b8c0\" class=\"colab-df-container\">\n",
              "    <div>\n",
              "<style scoped>\n",
              "    .dataframe tbody tr th:only-of-type {\n",
              "        vertical-align: middle;\n",
              "    }\n",
              "\n",
              "    .dataframe tbody tr th {\n",
              "        vertical-align: top;\n",
              "    }\n",
              "\n",
              "    .dataframe thead th {\n",
              "        text-align: right;\n",
              "    }\n",
              "</style>\n",
              "<table border=\"1\" class=\"dataframe\">\n",
              "  <thead>\n",
              "    <tr style=\"text-align: right;\">\n",
              "      <th></th>\n",
              "      <th>wage</th>\n",
              "      <th>abil</th>\n",
              "      <th>educ</th>\n",
              "      <th>ne</th>\n",
              "      <th>nc</th>\n",
              "      <th>west</th>\n",
              "      <th>south</th>\n",
              "      <th>exper</th>\n",
              "      <th>motheduc</th>\n",
              "      <th>fatheduc</th>\n",
              "      <th>...</th>\n",
              "      <th>ne18</th>\n",
              "      <th>nc18</th>\n",
              "      <th>south18</th>\n",
              "      <th>west18</th>\n",
              "      <th>urban18</th>\n",
              "      <th>tuit17</th>\n",
              "      <th>tuit18</th>\n",
              "      <th>lwage</th>\n",
              "      <th>expersq</th>\n",
              "      <th>ctuit</th>\n",
              "    </tr>\n",
              "  </thead>\n",
              "  <tbody>\n",
              "    <tr>\n",
              "      <th>0</th>\n",
              "      <td>12.019231</td>\n",
              "      <td>5.027738</td>\n",
              "      <td>15</td>\n",
              "      <td>0</td>\n",
              "      <td>0</td>\n",
              "      <td>1</td>\n",
              "      <td>0</td>\n",
              "      <td>9</td>\n",
              "      <td>12</td>\n",
              "      <td>12</td>\n",
              "      <td>...</td>\n",
              "      <td>1</td>\n",
              "      <td>0</td>\n",
              "      <td>0</td>\n",
              "      <td>0</td>\n",
              "      <td>1</td>\n",
              "      <td>7.582914</td>\n",
              "      <td>7.260242</td>\n",
              "      <td>2.486508</td>\n",
              "      <td>81</td>\n",
              "      <td>-0.322671</td>\n",
              "    </tr>\n",
              "    <tr>\n",
              "      <th>1</th>\n",
              "      <td>8.912656</td>\n",
              "      <td>2.037170</td>\n",
              "      <td>13</td>\n",
              "      <td>1</td>\n",
              "      <td>0</td>\n",
              "      <td>0</td>\n",
              "      <td>0</td>\n",
              "      <td>8</td>\n",
              "      <td>12</td>\n",
              "      <td>10</td>\n",
              "      <td>...</td>\n",
              "      <td>1</td>\n",
              "      <td>0</td>\n",
              "      <td>0</td>\n",
              "      <td>0</td>\n",
              "      <td>1</td>\n",
              "      <td>8.595144</td>\n",
              "      <td>9.499537</td>\n",
              "      <td>2.187472</td>\n",
              "      <td>64</td>\n",
              "      <td>0.904392</td>\n",
              "    </tr>\n",
              "    <tr>\n",
              "      <th>2</th>\n",
              "      <td>15.514334</td>\n",
              "      <td>2.475895</td>\n",
              "      <td>15</td>\n",
              "      <td>1</td>\n",
              "      <td>0</td>\n",
              "      <td>0</td>\n",
              "      <td>0</td>\n",
              "      <td>11</td>\n",
              "      <td>12</td>\n",
              "      <td>16</td>\n",
              "      <td>...</td>\n",
              "      <td>1</td>\n",
              "      <td>0</td>\n",
              "      <td>0</td>\n",
              "      <td>0</td>\n",
              "      <td>1</td>\n",
              "      <td>7.311346</td>\n",
              "      <td>7.311346</td>\n",
              "      <td>2.741764</td>\n",
              "      <td>121</td>\n",
              "      <td>0.000000</td>\n",
              "    </tr>\n",
              "    <tr>\n",
              "      <th>3</th>\n",
              "      <td>13.333333</td>\n",
              "      <td>3.609240</td>\n",
              "      <td>15</td>\n",
              "      <td>1</td>\n",
              "      <td>0</td>\n",
              "      <td>0</td>\n",
              "      <td>0</td>\n",
              "      <td>6</td>\n",
              "      <td>12</td>\n",
              "      <td>12</td>\n",
              "      <td>...</td>\n",
              "      <td>1</td>\n",
              "      <td>0</td>\n",
              "      <td>0</td>\n",
              "      <td>0</td>\n",
              "      <td>1</td>\n",
              "      <td>9.499537</td>\n",
              "      <td>10.162070</td>\n",
              "      <td>2.590267</td>\n",
              "      <td>36</td>\n",
              "      <td>0.662534</td>\n",
              "    </tr>\n",
              "    <tr>\n",
              "      <th>4</th>\n",
              "      <td>11.070110</td>\n",
              "      <td>2.636546</td>\n",
              "      <td>13</td>\n",
              "      <td>1</td>\n",
              "      <td>0</td>\n",
              "      <td>0</td>\n",
              "      <td>0</td>\n",
              "      <td>15</td>\n",
              "      <td>12</td>\n",
              "      <td>15</td>\n",
              "      <td>...</td>\n",
              "      <td>1</td>\n",
              "      <td>0</td>\n",
              "      <td>0</td>\n",
              "      <td>0</td>\n",
              "      <td>1</td>\n",
              "      <td>7.311346</td>\n",
              "      <td>7.311346</td>\n",
              "      <td>2.404249</td>\n",
              "      <td>225</td>\n",
              "      <td>0.000000</td>\n",
              "    </tr>\n",
              "  </tbody>\n",
              "</table>\n",
              "<p>5 rows × 23 columns</p>\n",
              "</div>\n",
              "    <div class=\"colab-df-buttons\">\n",
              "\n",
              "  <div class=\"colab-df-container\">\n",
              "    <button class=\"colab-df-convert\" onclick=\"convertToInteractive('df-b67d7613-45e7-4d77-85d0-ec0388d1b8c0')\"\n",
              "            title=\"Convert this dataframe to an interactive table.\"\n",
              "            style=\"display:none;\">\n",
              "\n",
              "  <svg xmlns=\"http://www.w3.org/2000/svg\" height=\"24px\" viewBox=\"0 -960 960 960\">\n",
              "    <path d=\"M120-120v-720h720v720H120Zm60-500h600v-160H180v160Zm220 220h160v-160H400v160Zm0 220h160v-160H400v160ZM180-400h160v-160H180v160Zm440 0h160v-160H620v160ZM180-180h160v-160H180v160Zm440 0h160v-160H620v160Z\"/>\n",
              "  </svg>\n",
              "    </button>\n",
              "\n",
              "  <style>\n",
              "    .colab-df-container {\n",
              "      display:flex;\n",
              "      gap: 12px;\n",
              "    }\n",
              "\n",
              "    .colab-df-convert {\n",
              "      background-color: #E8F0FE;\n",
              "      border: none;\n",
              "      border-radius: 50%;\n",
              "      cursor: pointer;\n",
              "      display: none;\n",
              "      fill: #1967D2;\n",
              "      height: 32px;\n",
              "      padding: 0 0 0 0;\n",
              "      width: 32px;\n",
              "    }\n",
              "\n",
              "    .colab-df-convert:hover {\n",
              "      background-color: #E2EBFA;\n",
              "      box-shadow: 0px 1px 2px rgba(60, 64, 67, 0.3), 0px 1px 3px 1px rgba(60, 64, 67, 0.15);\n",
              "      fill: #174EA6;\n",
              "    }\n",
              "\n",
              "    .colab-df-buttons div {\n",
              "      margin-bottom: 4px;\n",
              "    }\n",
              "\n",
              "    [theme=dark] .colab-df-convert {\n",
              "      background-color: #3B4455;\n",
              "      fill: #D2E3FC;\n",
              "    }\n",
              "\n",
              "    [theme=dark] .colab-df-convert:hover {\n",
              "      background-color: #434B5C;\n",
              "      box-shadow: 0px 1px 3px 1px rgba(0, 0, 0, 0.15);\n",
              "      filter: drop-shadow(0px 1px 2px rgba(0, 0, 0, 0.3));\n",
              "      fill: #FFFFFF;\n",
              "    }\n",
              "  </style>\n",
              "\n",
              "    <script>\n",
              "      const buttonEl =\n",
              "        document.querySelector('#df-b67d7613-45e7-4d77-85d0-ec0388d1b8c0 button.colab-df-convert');\n",
              "      buttonEl.style.display =\n",
              "        google.colab.kernel.accessAllowed ? 'block' : 'none';\n",
              "\n",
              "      async function convertToInteractive(key) {\n",
              "        const element = document.querySelector('#df-b67d7613-45e7-4d77-85d0-ec0388d1b8c0');\n",
              "        const dataTable =\n",
              "          await google.colab.kernel.invokeFunction('convertToInteractive',\n",
              "                                                    [key], {});\n",
              "        if (!dataTable) return;\n",
              "\n",
              "        const docLinkHtml = 'Like what you see? Visit the ' +\n",
              "          '<a target=\"_blank\" href=https://colab.research.google.com/notebooks/data_table.ipynb>data table notebook</a>'\n",
              "          + ' to learn more about interactive tables.';\n",
              "        element.innerHTML = '';\n",
              "        dataTable['output_type'] = 'display_data';\n",
              "        await google.colab.output.renderOutput(dataTable, element);\n",
              "        const docLink = document.createElement('div');\n",
              "        docLink.innerHTML = docLinkHtml;\n",
              "        element.appendChild(docLink);\n",
              "      }\n",
              "    </script>\n",
              "  </div>\n",
              "\n",
              "\n",
              "<div id=\"df-3c3ec092-39d9-42e4-bc12-66e366569aaf\">\n",
              "  <button class=\"colab-df-quickchart\" onclick=\"quickchart('df-3c3ec092-39d9-42e4-bc12-66e366569aaf')\"\n",
              "            title=\"Suggest charts\"\n",
              "            style=\"display:none;\">\n",
              "\n",
              "<svg xmlns=\"http://www.w3.org/2000/svg\" height=\"24px\"viewBox=\"0 0 24 24\"\n",
              "     width=\"24px\">\n",
              "    <g>\n",
              "        <path d=\"M19 3H5c-1.1 0-2 .9-2 2v14c0 1.1.9 2 2 2h14c1.1 0 2-.9 2-2V5c0-1.1-.9-2-2-2zM9 17H7v-7h2v7zm4 0h-2V7h2v10zm4 0h-2v-4h2v4z\"/>\n",
              "    </g>\n",
              "</svg>\n",
              "  </button>\n",
              "\n",
              "<style>\n",
              "  .colab-df-quickchart {\n",
              "      --bg-color: #E8F0FE;\n",
              "      --fill-color: #1967D2;\n",
              "      --hover-bg-color: #E2EBFA;\n",
              "      --hover-fill-color: #174EA6;\n",
              "      --disabled-fill-color: #AAA;\n",
              "      --disabled-bg-color: #DDD;\n",
              "  }\n",
              "\n",
              "  [theme=dark] .colab-df-quickchart {\n",
              "      --bg-color: #3B4455;\n",
              "      --fill-color: #D2E3FC;\n",
              "      --hover-bg-color: #434B5C;\n",
              "      --hover-fill-color: #FFFFFF;\n",
              "      --disabled-bg-color: #3B4455;\n",
              "      --disabled-fill-color: #666;\n",
              "  }\n",
              "\n",
              "  .colab-df-quickchart {\n",
              "    background-color: var(--bg-color);\n",
              "    border: none;\n",
              "    border-radius: 50%;\n",
              "    cursor: pointer;\n",
              "    display: none;\n",
              "    fill: var(--fill-color);\n",
              "    height: 32px;\n",
              "    padding: 0;\n",
              "    width: 32px;\n",
              "  }\n",
              "\n",
              "  .colab-df-quickchart:hover {\n",
              "    background-color: var(--hover-bg-color);\n",
              "    box-shadow: 0 1px 2px rgba(60, 64, 67, 0.3), 0 1px 3px 1px rgba(60, 64, 67, 0.15);\n",
              "    fill: var(--button-hover-fill-color);\n",
              "  }\n",
              "\n",
              "  .colab-df-quickchart-complete:disabled,\n",
              "  .colab-df-quickchart-complete:disabled:hover {\n",
              "    background-color: var(--disabled-bg-color);\n",
              "    fill: var(--disabled-fill-color);\n",
              "    box-shadow: none;\n",
              "  }\n",
              "\n",
              "  .colab-df-spinner {\n",
              "    border: 2px solid var(--fill-color);\n",
              "    border-color: transparent;\n",
              "    border-bottom-color: var(--fill-color);\n",
              "    animation:\n",
              "      spin 1s steps(1) infinite;\n",
              "  }\n",
              "\n",
              "  @keyframes spin {\n",
              "    0% {\n",
              "      border-color: transparent;\n",
              "      border-bottom-color: var(--fill-color);\n",
              "      border-left-color: var(--fill-color);\n",
              "    }\n",
              "    20% {\n",
              "      border-color: transparent;\n",
              "      border-left-color: var(--fill-color);\n",
              "      border-top-color: var(--fill-color);\n",
              "    }\n",
              "    30% {\n",
              "      border-color: transparent;\n",
              "      border-left-color: var(--fill-color);\n",
              "      border-top-color: var(--fill-color);\n",
              "      border-right-color: var(--fill-color);\n",
              "    }\n",
              "    40% {\n",
              "      border-color: transparent;\n",
              "      border-right-color: var(--fill-color);\n",
              "      border-top-color: var(--fill-color);\n",
              "    }\n",
              "    60% {\n",
              "      border-color: transparent;\n",
              "      border-right-color: var(--fill-color);\n",
              "    }\n",
              "    80% {\n",
              "      border-color: transparent;\n",
              "      border-right-color: var(--fill-color);\n",
              "      border-bottom-color: var(--fill-color);\n",
              "    }\n",
              "    90% {\n",
              "      border-color: transparent;\n",
              "      border-bottom-color: var(--fill-color);\n",
              "    }\n",
              "  }\n",
              "</style>\n",
              "\n",
              "  <script>\n",
              "    async function quickchart(key) {\n",
              "      const quickchartButtonEl =\n",
              "        document.querySelector('#' + key + ' button');\n",
              "      quickchartButtonEl.disabled = true;  // To prevent multiple clicks.\n",
              "      quickchartButtonEl.classList.add('colab-df-spinner');\n",
              "      try {\n",
              "        const charts = await google.colab.kernel.invokeFunction(\n",
              "            'suggestCharts', [key], {});\n",
              "      } catch (error) {\n",
              "        console.error('Error during call to suggestCharts:', error);\n",
              "      }\n",
              "      quickchartButtonEl.classList.remove('colab-df-spinner');\n",
              "      quickchartButtonEl.classList.add('colab-df-quickchart-complete');\n",
              "    }\n",
              "    (() => {\n",
              "      let quickchartButtonEl =\n",
              "        document.querySelector('#df-3c3ec092-39d9-42e4-bc12-66e366569aaf button');\n",
              "      quickchartButtonEl.style.display =\n",
              "        google.colab.kernel.accessAllowed ? 'block' : 'none';\n",
              "    })();\n",
              "  </script>\n",
              "</div>\n",
              "    </div>\n",
              "  </div>\n"
            ],
            "application/vnd.google.colaboratory.intrinsic+json": {
              "type": "dataframe",
              "variable_name": "htv"
            }
          },
          "metadata": {},
          "execution_count": 4
        }
      ]
    },
    {
      "cell_type": "markdown",
      "source": [
        "# OLS"
      ],
      "metadata": {
        "id": "9H6tZltODeSV"
      }
    },
    {
      "cell_type": "code",
      "source": [
        "# ols\n",
        "formula= 'lwage ~ 1 + educ + abil + exper + nc + west + south + urban'\n",
        "\n",
        "res_ols = smf.ols(formula, data=htv).fit(cov_type='HC3')\n",
        "res_ols.summary()"
      ],
      "metadata": {
        "colab": {
          "base_uri": "https://localhost:8080/",
          "height": 575
        },
        "id": "firietY4mNY7",
        "outputId": "9d89ec7e-caeb-44d6-c67b-73bf1ada880f"
      },
      "execution_count": 5,
      "outputs": [
        {
          "output_type": "execute_result",
          "data": {
            "text/plain": [
              "<class 'statsmodels.iolib.summary.Summary'>\n",
              "\"\"\"\n",
              "                            OLS Regression Results                            \n",
              "==============================================================================\n",
              "Dep. Variable:                  lwage   R-squared:                       0.234\n",
              "Model:                            OLS   Adj. R-squared:                  0.229\n",
              "Method:                 Least Squares   F-statistic:                     43.89\n",
              "Date:                Sun, 13 Apr 2025   Prob (F-statistic):           1.57e-55\n",
              "Time:                        08:28:14   Log-Likelihood:                -939.84\n",
              "No. Observations:                1230   AIC:                             1896.\n",
              "Df Residuals:                    1222   BIC:                             1937.\n",
              "Df Model:                           7                                         \n",
              "Covariance Type:                  HC3                                         \n",
              "==============================================================================\n",
              "                 coef    std err          z      P>|z|      [0.025      0.975]\n",
              "------------------------------------------------------------------------------\n",
              "Intercept      0.3987      0.194      2.057      0.040       0.019       0.779\n",
              "educ           0.1037      0.011      9.778      0.000       0.083       0.125\n",
              "abil           0.0558      0.009      6.355      0.000       0.039       0.073\n",
              "exper          0.0448      0.007      6.464      0.000       0.031       0.058\n",
              "nc            -0.1397      0.038     -3.663      0.000      -0.215      -0.065\n",
              "west          -0.1282      0.050     -2.573      0.010      -0.226      -0.031\n",
              "south         -0.1227      0.043     -2.883      0.004      -0.206      -0.039\n",
              "urban          0.2268      0.042      5.447      0.000       0.145       0.308\n",
              "==============================================================================\n",
              "Omnibus:                       70.134   Durbin-Watson:                   1.903\n",
              "Prob(Omnibus):                  0.000   Jarque-Bera (JB):              145.589\n",
              "Skew:                          -0.368   Prob(JB):                     2.43e-32\n",
              "Kurtosis:                       4.516   Cond. No.                         214.\n",
              "==============================================================================\n",
              "\n",
              "Notes:\n",
              "[1] Standard Errors are heteroscedasticity robust (HC3)\n",
              "\"\"\""
            ],
            "text/html": [
              "<table class=\"simpletable\">\n",
              "<caption>OLS Regression Results</caption>\n",
              "<tr>\n",
              "  <th>Dep. Variable:</th>          <td>lwage</td>      <th>  R-squared:         </th> <td>   0.234</td>\n",
              "</tr>\n",
              "<tr>\n",
              "  <th>Model:</th>                   <td>OLS</td>       <th>  Adj. R-squared:    </th> <td>   0.229</td>\n",
              "</tr>\n",
              "<tr>\n",
              "  <th>Method:</th>             <td>Least Squares</td>  <th>  F-statistic:       </th> <td>   43.89</td>\n",
              "</tr>\n",
              "<tr>\n",
              "  <th>Date:</th>             <td>Sun, 13 Apr 2025</td> <th>  Prob (F-statistic):</th> <td>1.57e-55</td>\n",
              "</tr>\n",
              "<tr>\n",
              "  <th>Time:</th>                 <td>08:28:14</td>     <th>  Log-Likelihood:    </th> <td> -939.84</td>\n",
              "</tr>\n",
              "<tr>\n",
              "  <th>No. Observations:</th>      <td>  1230</td>      <th>  AIC:               </th> <td>   1896.</td>\n",
              "</tr>\n",
              "<tr>\n",
              "  <th>Df Residuals:</th>          <td>  1222</td>      <th>  BIC:               </th> <td>   1937.</td>\n",
              "</tr>\n",
              "<tr>\n",
              "  <th>Df Model:</th>              <td>     7</td>      <th>                     </th>     <td> </td>   \n",
              "</tr>\n",
              "<tr>\n",
              "  <th>Covariance Type:</th>         <td>HC3</td>       <th>                     </th>     <td> </td>   \n",
              "</tr>\n",
              "</table>\n",
              "<table class=\"simpletable\">\n",
              "<tr>\n",
              "      <td></td>         <th>coef</th>     <th>std err</th>      <th>z</th>      <th>P>|z|</th>  <th>[0.025</th>    <th>0.975]</th>  \n",
              "</tr>\n",
              "<tr>\n",
              "  <th>Intercept</th> <td>    0.3987</td> <td>    0.194</td> <td>    2.057</td> <td> 0.040</td> <td>    0.019</td> <td>    0.779</td>\n",
              "</tr>\n",
              "<tr>\n",
              "  <th>educ</th>      <td>    0.1037</td> <td>    0.011</td> <td>    9.778</td> <td> 0.000</td> <td>    0.083</td> <td>    0.125</td>\n",
              "</tr>\n",
              "<tr>\n",
              "  <th>abil</th>      <td>    0.0558</td> <td>    0.009</td> <td>    6.355</td> <td> 0.000</td> <td>    0.039</td> <td>    0.073</td>\n",
              "</tr>\n",
              "<tr>\n",
              "  <th>exper</th>     <td>    0.0448</td> <td>    0.007</td> <td>    6.464</td> <td> 0.000</td> <td>    0.031</td> <td>    0.058</td>\n",
              "</tr>\n",
              "<tr>\n",
              "  <th>nc</th>        <td>   -0.1397</td> <td>    0.038</td> <td>   -3.663</td> <td> 0.000</td> <td>   -0.215</td> <td>   -0.065</td>\n",
              "</tr>\n",
              "<tr>\n",
              "  <th>west</th>      <td>   -0.1282</td> <td>    0.050</td> <td>   -2.573</td> <td> 0.010</td> <td>   -0.226</td> <td>   -0.031</td>\n",
              "</tr>\n",
              "<tr>\n",
              "  <th>south</th>     <td>   -0.1227</td> <td>    0.043</td> <td>   -2.883</td> <td> 0.004</td> <td>   -0.206</td> <td>   -0.039</td>\n",
              "</tr>\n",
              "<tr>\n",
              "  <th>urban</th>     <td>    0.2268</td> <td>    0.042</td> <td>    5.447</td> <td> 0.000</td> <td>    0.145</td> <td>    0.308</td>\n",
              "</tr>\n",
              "</table>\n",
              "<table class=\"simpletable\">\n",
              "<tr>\n",
              "  <th>Omnibus:</th>       <td>70.134</td> <th>  Durbin-Watson:     </th> <td>   1.903</td>\n",
              "</tr>\n",
              "<tr>\n",
              "  <th>Prob(Omnibus):</th> <td> 0.000</td> <th>  Jarque-Bera (JB):  </th> <td> 145.589</td>\n",
              "</tr>\n",
              "<tr>\n",
              "  <th>Skew:</th>          <td>-0.368</td> <th>  Prob(JB):          </th> <td>2.43e-32</td>\n",
              "</tr>\n",
              "<tr>\n",
              "  <th>Kurtosis:</th>      <td> 4.516</td> <th>  Cond. No.          </th> <td>    214.</td>\n",
              "</tr>\n",
              "</table><br/><br/>Notes:<br/>[1] Standard Errors are heteroscedasticity robust (HC3)"
            ],
            "text/latex": "\\begin{center}\n\\begin{tabular}{lclc}\n\\toprule\n\\textbf{Dep. Variable:}    &      lwage       & \\textbf{  R-squared:         } &     0.234   \\\\\n\\textbf{Model:}            &       OLS        & \\textbf{  Adj. R-squared:    } &     0.229   \\\\\n\\textbf{Method:}           &  Least Squares   & \\textbf{  F-statistic:       } &     43.89   \\\\\n\\textbf{Date:}             & Sun, 13 Apr 2025 & \\textbf{  Prob (F-statistic):} &  1.57e-55   \\\\\n\\textbf{Time:}             &     08:28:14     & \\textbf{  Log-Likelihood:    } &   -939.84   \\\\\n\\textbf{No. Observations:} &        1230      & \\textbf{  AIC:               } &     1896.   \\\\\n\\textbf{Df Residuals:}     &        1222      & \\textbf{  BIC:               } &     1937.   \\\\\n\\textbf{Df Model:}         &           7      & \\textbf{                     } &             \\\\\n\\textbf{Covariance Type:}  &       HC3        & \\textbf{                     } &             \\\\\n\\bottomrule\n\\end{tabular}\n\\begin{tabular}{lcccccc}\n                   & \\textbf{coef} & \\textbf{std err} & \\textbf{z} & \\textbf{P$> |$z$|$} & \\textbf{[0.025} & \\textbf{0.975]}  \\\\\n\\midrule\n\\textbf{Intercept} &       0.3987  &        0.194     &     2.057  &         0.040        &        0.019    &        0.779     \\\\\n\\textbf{educ}      &       0.1037  &        0.011     &     9.778  &         0.000        &        0.083    &        0.125     \\\\\n\\textbf{abil}      &       0.0558  &        0.009     &     6.355  &         0.000        &        0.039    &        0.073     \\\\\n\\textbf{exper}     &       0.0448  &        0.007     &     6.464  &         0.000        &        0.031    &        0.058     \\\\\n\\textbf{nc}        &      -0.1397  &        0.038     &    -3.663  &         0.000        &       -0.215    &       -0.065     \\\\\n\\textbf{west}      &      -0.1282  &        0.050     &    -2.573  &         0.010        &       -0.226    &       -0.031     \\\\\n\\textbf{south}     &      -0.1227  &        0.043     &    -2.883  &         0.004        &       -0.206    &       -0.039     \\\\\n\\textbf{urban}     &       0.2268  &        0.042     &     5.447  &         0.000        &        0.145    &        0.308     \\\\\n\\bottomrule\n\\end{tabular}\n\\begin{tabular}{lclc}\n\\textbf{Omnibus:}       & 70.134 & \\textbf{  Durbin-Watson:     } &    1.903  \\\\\n\\textbf{Prob(Omnibus):} &  0.000 & \\textbf{  Jarque-Bera (JB):  } &  145.589  \\\\\n\\textbf{Skew:}          & -0.368 & \\textbf{  Prob(JB):          } & 2.43e-32  \\\\\n\\textbf{Kurtosis:}      &  4.516 & \\textbf{  Cond. No.          } &     214.  \\\\\n\\bottomrule\n\\end{tabular}\n%\\caption{OLS Regression Results}\n\\end{center}\n\nNotes: \\newline\n [1] Standard Errors are heteroscedasticity robust (HC3)"
          },
          "metadata": {},
          "execution_count": 5
        }
      ]
    },
    {
      "cell_type": "markdown",
      "source": [
        "# TRUNCATED REGRESSION"
      ],
      "metadata": {
        "id": "YyWh45HXDjJz"
      }
    },
    {
      "cell_type": "code",
      "source": [
        "# truncated\n",
        "# assume truncation is done at max value\n",
        "\n",
        "max(htv['lwage'])"
      ],
      "metadata": {
        "colab": {
          "base_uri": "https://localhost:8080/"
        },
        "id": "IapMIgRamoo-",
        "outputId": "f5aa7c06-8589-4fa8-a877-19ea3d16c21e"
      },
      "execution_count": 6,
      "outputs": [
        {
          "output_type": "execute_result",
          "data": {
            "text/plain": [
              "4.514251708984375"
            ]
          },
          "metadata": {},
          "execution_count": 6
        }
      ]
    },
    {
      "cell_type": "code",
      "source": [
        "# truncated\n",
        "# assume truncation is done at max value (so it's right truncation)\n",
        "\n",
        "# should more or less coincide with ols, as truncation does not really occur\n",
        "\n",
        "formula= 'lwage ~ 1 + educ + abil + exper + nc + west + south + urban'\n",
        "\n",
        "res_trunc = Truncreg.from_formula(formula, data=htv, right=max(htv['lwage'])).fit()\n",
        "res_trunc.summary()"
      ],
      "metadata": {
        "colab": {
          "base_uri": "https://localhost:8080/",
          "height": 488
        },
        "id": "p__Ur_pGpY3l",
        "outputId": "07c600ba-e10c-4d12-9679-a8aa4154bc9d"
      },
      "execution_count": 7,
      "outputs": [
        {
          "output_type": "stream",
          "name": "stdout",
          "text": [
            "Optimization terminated successfully.\n",
            "         Current function value: 0.763912\n",
            "         Iterations: 257\n",
            "         Function evaluations: 406\n"
          ]
        },
        {
          "output_type": "execute_result",
          "data": {
            "text/plain": [
              "<class 'statsmodels.iolib.summary.Summary'>\n",
              "\"\"\"\n",
              "                         Truncreg Regression Results                          \n",
              "==============================================================================\n",
              "Dep. Variable:                  lwage   Pseudo R-squ:                    0.148\n",
              "Model:                       Truncreg   Log-Likelihood:                 -939.6\n",
              "Method:            Maximum Likelihood   LL-Null:                       -1103.3\n",
              "Date:                Sun, 13 Apr 2025   LL-Ratio:                        327.3\n",
              "Time:                        08:28:25   LLR p-value:                     0.000\n",
              "No. Observations:                1230   AIC:                            1895.2\n",
              "Df Residuals:                    1222   BIC:                            1936.1\n",
              "Df Model:                           7   Covariance Type:             nonrobust\n",
              "==============================================================================\n",
              "                 coef    std err          z      P>|z|      [0.025      0.975]\n",
              "------------------------------------------------------------------------------\n",
              "Intercept      0.3946      0.185      2.136      0.033       0.033       0.757\n",
              "educ           0.1040      0.010     10.728      0.000       0.085       0.123\n",
              "abil           0.0558      0.008      6.575      0.000       0.039       0.072\n",
              "exper          0.0449      0.007      6.639      0.000       0.032       0.058\n",
              "nc            -0.1401      0.041     -3.452      0.001      -0.220      -0.061\n",
              "west          -0.1286      0.049     -2.647      0.008      -0.224      -0.033\n",
              "south         -0.1229      0.045     -2.750      0.006      -0.211      -0.035\n",
              "urban          0.2270      0.040      5.606      0.000       0.148       0.306\n",
              "Log(Sigma)    -0.6538      0.020    -32.239      0.000      -0.694      -0.614\n",
              "==============================================================================\n",
              "\"\"\""
            ],
            "text/html": [
              "<table class=\"simpletable\">\n",
              "<caption>Truncreg Regression Results</caption>\n",
              "<tr>\n",
              "  <th>Dep. Variable:</th>           <td>lwage</td>       <th>  Pseudo R-squ:      </th>   <td>0.148</td>  \n",
              "</tr>\n",
              "<tr>\n",
              "  <th>Model:</th>                 <td>Truncreg</td>      <th>  Log-Likelihood:    </th>  <td>-939.6</td>  \n",
              "</tr>\n",
              "<tr>\n",
              "  <th>Method:</th>           <td>Maximum Likelihood</td> <th>  LL-Null:           </th>  <td>-1103.3</td> \n",
              "</tr>\n",
              "<tr>\n",
              "  <th>Date:</th>              <td>Sun, 13 Apr 2025</td>  <th>  LL-Ratio:          </th>   <td>327.3</td>  \n",
              "</tr>\n",
              "<tr>\n",
              "  <th>Time:</th>                  <td>08:28:25</td>      <th>  LLR p-value:       </th>   <td>0.000</td>  \n",
              "</tr>\n",
              "<tr>\n",
              "  <th>No. Observations:</th>       <td>  1230</td>       <th>  AIC:               </th>  <td>1895.2</td>  \n",
              "</tr>\n",
              "<tr>\n",
              "  <th>Df Residuals:</th>           <td>  1222</td>       <th>  BIC:               </th>  <td>1936.1</td>  \n",
              "</tr>\n",
              "<tr>\n",
              "  <th>Df Model:</th>               <td>     7</td>       <th>  Covariance Type:   </th> <td>nonrobust</td>\n",
              "</tr>\n",
              "</table>\n",
              "<table class=\"simpletable\">\n",
              "<tr>\n",
              "       <td></td>         <th>coef</th>     <th>std err</th>      <th>z</th>      <th>P>|z|</th>  <th>[0.025</th>    <th>0.975]</th>  \n",
              "</tr>\n",
              "<tr>\n",
              "  <th>Intercept</th>  <td>    0.3946</td> <td>    0.185</td> <td>    2.136</td> <td> 0.033</td> <td>    0.033</td> <td>    0.757</td>\n",
              "</tr>\n",
              "<tr>\n",
              "  <th>educ</th>       <td>    0.1040</td> <td>    0.010</td> <td>   10.728</td> <td> 0.000</td> <td>    0.085</td> <td>    0.123</td>\n",
              "</tr>\n",
              "<tr>\n",
              "  <th>abil</th>       <td>    0.0558</td> <td>    0.008</td> <td>    6.575</td> <td> 0.000</td> <td>    0.039</td> <td>    0.072</td>\n",
              "</tr>\n",
              "<tr>\n",
              "  <th>exper</th>      <td>    0.0449</td> <td>    0.007</td> <td>    6.639</td> <td> 0.000</td> <td>    0.032</td> <td>    0.058</td>\n",
              "</tr>\n",
              "<tr>\n",
              "  <th>nc</th>         <td>   -0.1401</td> <td>    0.041</td> <td>   -3.452</td> <td> 0.001</td> <td>   -0.220</td> <td>   -0.061</td>\n",
              "</tr>\n",
              "<tr>\n",
              "  <th>west</th>       <td>   -0.1286</td> <td>    0.049</td> <td>   -2.647</td> <td> 0.008</td> <td>   -0.224</td> <td>   -0.033</td>\n",
              "</tr>\n",
              "<tr>\n",
              "  <th>south</th>      <td>   -0.1229</td> <td>    0.045</td> <td>   -2.750</td> <td> 0.006</td> <td>   -0.211</td> <td>   -0.035</td>\n",
              "</tr>\n",
              "<tr>\n",
              "  <th>urban</th>      <td>    0.2270</td> <td>    0.040</td> <td>    5.606</td> <td> 0.000</td> <td>    0.148</td> <td>    0.306</td>\n",
              "</tr>\n",
              "<tr>\n",
              "  <th>Log(Sigma)</th> <td>   -0.6538</td> <td>    0.020</td> <td>  -32.239</td> <td> 0.000</td> <td>   -0.694</td> <td>   -0.614</td>\n",
              "</tr>\n",
              "</table>"
            ],
            "text/latex": "\\begin{center}\n\\begin{tabular}{lclc}\n\\toprule\n\\textbf{Dep. Variable:}    &       lwage        & \\textbf{  Pseudo R-squ:      } &   0.148     \\\\\n\\textbf{Model:}            &      Truncreg      & \\textbf{  Log-Likelihood:    } &   -939.6    \\\\\n\\textbf{Method:}           & Maximum Likelihood & \\textbf{  LL-Null:           } &  -1103.3    \\\\\n\\textbf{Date:}             &  Sun, 13 Apr 2025  & \\textbf{  LL-Ratio:          } &   327.3     \\\\\n\\textbf{Time:}             &      08:28:25      & \\textbf{  LLR p-value:       } &   0.000     \\\\\n\\textbf{No. Observations:} &         1230       & \\textbf{  AIC:               } &   1895.2    \\\\\n\\textbf{Df Residuals:}     &         1222       & \\textbf{  BIC:               } &   1936.1    \\\\\n\\textbf{Df Model:}         &            7       & \\textbf{  Covariance Type:   } & nonrobust   \\\\\n\\bottomrule\n\\end{tabular}\n\\begin{tabular}{lcccccc}\n                    & \\textbf{coef} & \\textbf{std err} & \\textbf{z} & \\textbf{P$> |$z$|$} & \\textbf{[0.025} & \\textbf{0.975]}  \\\\\n\\midrule\n\\textbf{Intercept}  &       0.3946  &        0.185     &     2.136  &         0.033        &        0.033    &        0.757     \\\\\n\\textbf{educ}       &       0.1040  &        0.010     &    10.728  &         0.000        &        0.085    &        0.123     \\\\\n\\textbf{abil}       &       0.0558  &        0.008     &     6.575  &         0.000        &        0.039    &        0.072     \\\\\n\\textbf{exper}      &       0.0449  &        0.007     &     6.639  &         0.000        &        0.032    &        0.058     \\\\\n\\textbf{nc}         &      -0.1401  &        0.041     &    -3.452  &         0.001        &       -0.220    &       -0.061     \\\\\n\\textbf{west}       &      -0.1286  &        0.049     &    -2.647  &         0.008        &       -0.224    &       -0.033     \\\\\n\\textbf{south}      &      -0.1229  &        0.045     &    -2.750  &         0.006        &       -0.211    &       -0.035     \\\\\n\\textbf{urban}      &       0.2270  &        0.040     &     5.606  &         0.000        &        0.148    &        0.306     \\\\\n\\textbf{Log(Sigma)} &      -0.6538  &        0.020     &   -32.239  &         0.000        &       -0.694    &       -0.614     \\\\\n\\bottomrule\n\\end{tabular}\n%\\caption{Truncreg Regression Results}\n\\end{center}"
          },
          "metadata": {},
          "execution_count": 7
        }
      ]
    },
    {
      "cell_type": "code",
      "source": [
        "res_trunc.wald_test('educ+abil=exper').summary()"
      ],
      "metadata": {
        "colab": {
          "base_uri": "https://localhost:8080/",
          "height": 89
        },
        "id": "p7Wwm0Ajp4hJ",
        "outputId": "701fb68f-d276-4b95-b60a-ff9bc4e7cb7e"
      },
      "execution_count": 8,
      "outputs": [
        {
          "output_type": "stream",
          "name": "stderr",
          "text": [
            "/usr/local/lib/python3.11/dist-packages/statsmodels/base/model.py:1912: FutureWarning: The behavior of wald_test will change after 0.14 to returning scalar test statistic values. To get the future behavior now, set scalar to True. To silence this message while retaining the legacy behavior, set scalar to False.\n",
            "  warnings.warn(\n"
          ]
        },
        {
          "output_type": "execute_result",
          "data": {
            "text/plain": [
              "'<Wald test (chi2): statistic=[[233.21071339]], p-value=1.188940582819191e-52, df_denom=1>'"
            ],
            "application/vnd.google.colaboratory.intrinsic+json": {
              "type": "string"
            }
          },
          "metadata": {},
          "execution_count": 8
        }
      ]
    },
    {
      "cell_type": "code",
      "source": [
        "y_hat = res_trunc.fittedvalues\n",
        "u_hat = res_trunc.resid"
      ],
      "metadata": {
        "id": "8Wf_XmNQqRk0"
      },
      "execution_count": 9,
      "outputs": []
    },
    {
      "cell_type": "markdown",
      "source": [
        "# TOBIT"
      ],
      "metadata": {
        "id": "ClB11XbkDY1Y"
      }
    },
    {
      "cell_type": "code",
      "source": [
        "# tobit\n",
        "mroz = wooldridge.data('mroz')"
      ],
      "metadata": {
        "id": "_tIjMIYbqp7c"
      },
      "execution_count": 10,
      "outputs": []
    },
    {
      "cell_type": "code",
      "source": [
        "# create censor variable\n",
        "# codes: 0 for non-censored part, -1 for censored part\n",
        "mroz['censor'] = 0\n",
        "mroz.loc[mroz['hours'] == 0, 'censor'] = -1"
      ],
      "metadata": {
        "id": "t5vZ0X8RyoLC"
      },
      "execution_count": 11,
      "outputs": []
    },
    {
      "cell_type": "code",
      "source": [
        "formula = 'hours ~ 1 + nwifeinc + educ + exper + expersq + age + kidslt6 + kidsge6'\n",
        "\n",
        "res_tobit = Tobit.from_formula(formula,\n",
        "                               cens=mroz['censor'],\n",
        "                               left=0,\n",
        "                               data=mroz).fit()\n",
        "\n",
        "res_tobit.summary()"
      ],
      "metadata": {
        "colab": {
          "base_uri": "https://localhost:8080/",
          "height": 488
        },
        "id": "TJEswFNRzN_a",
        "outputId": "61d6c168-b7ad-446c-abff-ec0c7de9e7a3"
      },
      "execution_count": 12,
      "outputs": [
        {
          "output_type": "stream",
          "name": "stdout",
          "text": [
            "Optimization terminated successfully.\n",
            "         Current function value: 5.071839\n",
            "         Iterations: 2472\n",
            "         Function evaluations: 3579\n"
          ]
        },
        {
          "output_type": "execute_result",
          "data": {
            "text/plain": [
              "<class 'statsmodels.iolib.summary.Summary'>\n",
              "\"\"\"\n",
              "                              Tobit Regression Results                             \n",
              "===================================================================================\n",
              "Dep. Variable:                       hours   Pseudo R-squ:                    0.034\n",
              "Method:                 Maximum Likelihood   Log-Likelihood:                -3819.1\n",
              "No. Observations:                      753   LL-Null:                       -3954.9\n",
              "No. Uncensored Obs:                    428   LL-Ratio:                        271.6\n",
              "No. Left-censored Obs:                 325   LLR p-value:                     0.000\n",
              "No. Right-censored Obs:                  0   AIC:                            7654.2\n",
              "Df Residuals:                          745   BIC:                            7691.2\n",
              "Df Model:                                7   Covariance Type:             nonrobust\n",
              "==============================================================================\n",
              "                 coef    std err          z      P>|z|      [0.025      0.975]\n",
              "------------------------------------------------------------------------------\n",
              "Intercept    965.3052    446.431      2.162      0.031      90.316    1840.294\n",
              "nwifeinc      -8.8142      4.459     -1.977      0.048     -17.554      -0.075\n",
              "educ          80.6456     21.583      3.737      0.000      38.343     122.948\n",
              "exper        131.5643     17.279      7.614      0.000      97.697     165.431\n",
              "expersq       -1.8642      0.538     -3.467      0.001      -2.918      -0.810\n",
              "age          -54.4050      7.418     -7.334      0.000     -68.945     -39.865\n",
              "kidslt6     -894.0218    111.878     -7.991      0.000   -1113.299    -674.745\n",
              "kidsge6      -16.2180     38.640     -0.420      0.675     -91.951      59.515\n",
              "Log(Sigma)     7.0229      0.037    189.514      0.000       6.950       7.096\n",
              "==============================================================================\n",
              "\"\"\""
            ],
            "text/html": [
              "<table class=\"simpletable\">\n",
              "<caption>Tobit Regression Results</caption>\n",
              "<tr>\n",
              "  <th>Dep. Variable:</th>                 <td>hours</td>       <th>  Pseudo R-squ:      </th>   <td>0.034</td>  \n",
              "</tr>\n",
              "<tr>\n",
              "  <th>Method:</th>                 <td>Maximum Likelihood</td> <th>  Log-Likelihood:    </th>  <td>-3819.1</td> \n",
              "</tr>\n",
              "<tr>\n",
              "  <th>No. Observations:</th>             <td>   753</td>       <th>  LL-Null:           </th>  <td>-3954.9</td> \n",
              "</tr>\n",
              "<tr>\n",
              "  <th>No. Uncensored Obs:</th>             <td>428</td>        <th>  LL-Ratio:          </th>   <td>271.6</td>  \n",
              "</tr>\n",
              "<tr>\n",
              "  <th>No. Left-censored Obs:</th>          <td>325</td>        <th>  LLR p-value:       </th>   <td>0.000</td>  \n",
              "</tr>\n",
              "<tr>\n",
              "  <th>No. Right-censored Obs:</th>          <td>0</td>         <th>  AIC:               </th>  <td>7654.2</td>  \n",
              "</tr>\n",
              "<tr>\n",
              "  <th>Df Residuals:</th>                 <td>   745</td>       <th>  BIC:               </th>  <td>7691.2</td>  \n",
              "</tr>\n",
              "<tr>\n",
              "  <th>Df Model:</th>                     <td>     7</td>       <th>  Covariance Type:   </th> <td>nonrobust</td>\n",
              "</tr>\n",
              "</table>\n",
              "<table class=\"simpletable\">\n",
              "<tr>\n",
              "       <td></td>         <th>coef</th>     <th>std err</th>      <th>z</th>      <th>P>|z|</th>  <th>[0.025</th>    <th>0.975]</th>  \n",
              "</tr>\n",
              "<tr>\n",
              "  <th>Intercept</th>  <td>  965.3052</td> <td>  446.431</td> <td>    2.162</td> <td> 0.031</td> <td>   90.316</td> <td> 1840.294</td>\n",
              "</tr>\n",
              "<tr>\n",
              "  <th>nwifeinc</th>   <td>   -8.8142</td> <td>    4.459</td> <td>   -1.977</td> <td> 0.048</td> <td>  -17.554</td> <td>   -0.075</td>\n",
              "</tr>\n",
              "<tr>\n",
              "  <th>educ</th>       <td>   80.6456</td> <td>   21.583</td> <td>    3.737</td> <td> 0.000</td> <td>   38.343</td> <td>  122.948</td>\n",
              "</tr>\n",
              "<tr>\n",
              "  <th>exper</th>      <td>  131.5643</td> <td>   17.279</td> <td>    7.614</td> <td> 0.000</td> <td>   97.697</td> <td>  165.431</td>\n",
              "</tr>\n",
              "<tr>\n",
              "  <th>expersq</th>    <td>   -1.8642</td> <td>    0.538</td> <td>   -3.467</td> <td> 0.001</td> <td>   -2.918</td> <td>   -0.810</td>\n",
              "</tr>\n",
              "<tr>\n",
              "  <th>age</th>        <td>  -54.4050</td> <td>    7.418</td> <td>   -7.334</td> <td> 0.000</td> <td>  -68.945</td> <td>  -39.865</td>\n",
              "</tr>\n",
              "<tr>\n",
              "  <th>kidslt6</th>    <td> -894.0218</td> <td>  111.878</td> <td>   -7.991</td> <td> 0.000</td> <td>-1113.299</td> <td> -674.745</td>\n",
              "</tr>\n",
              "<tr>\n",
              "  <th>kidsge6</th>    <td>  -16.2180</td> <td>   38.640</td> <td>   -0.420</td> <td> 0.675</td> <td>  -91.951</td> <td>   59.515</td>\n",
              "</tr>\n",
              "<tr>\n",
              "  <th>Log(Sigma)</th> <td>    7.0229</td> <td>    0.037</td> <td>  189.514</td> <td> 0.000</td> <td>    6.950</td> <td>    7.096</td>\n",
              "</tr>\n",
              "</table>"
            ],
            "text/latex": "\\begin{center}\n\\begin{tabular}{lclc}\n\\toprule\n\\textbf{Dep. Variable:}          &       hours        & \\textbf{  Pseudo R-squ:      } &   0.034     \\\\\n\\textbf{Method:}                 & Maximum Likelihood & \\textbf{  Log-Likelihood:    } &  -3819.1    \\\\\n\\textbf{No. Observations:}       &          753       & \\textbf{  LL-Null:           } &  -3954.9    \\\\\n\\textbf{No. Uncensored Obs:}     &        428         & \\textbf{  LL-Ratio:          } &   271.6     \\\\\n\\textbf{No. Left-censored Obs:}  &        325         & \\textbf{  LLR p-value:       } &   0.000     \\\\\n\\textbf{No. Right-censored Obs:} &         0          & \\textbf{  AIC:               } &   7654.2    \\\\\n\\textbf{Df Residuals:}           &          745       & \\textbf{  BIC:               } &   7691.2    \\\\\n\\textbf{Df Model:}               &            7       & \\textbf{  Covariance Type:   } & nonrobust   \\\\\n\\bottomrule\n\\end{tabular}\n\\begin{tabular}{lcccccc}\n                    & \\textbf{coef} & \\textbf{std err} & \\textbf{z} & \\textbf{P$> |$z$|$} & \\textbf{[0.025} & \\textbf{0.975]}  \\\\\n\\midrule\n\\textbf{Intercept}  &     965.3052  &      446.431     &     2.162  &         0.031        &       90.316    &     1840.294     \\\\\n\\textbf{nwifeinc}   &      -8.8142  &        4.459     &    -1.977  &         0.048        &      -17.554    &       -0.075     \\\\\n\\textbf{educ}       &      80.6456  &       21.583     &     3.737  &         0.000        &       38.343    &      122.948     \\\\\n\\textbf{exper}      &     131.5643  &       17.279     &     7.614  &         0.000        &       97.697    &      165.431     \\\\\n\\textbf{expersq}    &      -1.8642  &        0.538     &    -3.467  &         0.001        &       -2.918    &       -0.810     \\\\\n\\textbf{age}        &     -54.4050  &        7.418     &    -7.334  &         0.000        &      -68.945    &      -39.865     \\\\\n\\textbf{kidslt6}    &    -894.0218  &      111.878     &    -7.991  &         0.000        &    -1113.299    &     -674.745     \\\\\n\\textbf{kidsge6}    &     -16.2180  &       38.640     &    -0.420  &         0.675        &      -91.951    &       59.515     \\\\\n\\textbf{Log(Sigma)} &       7.0229  &        0.037     &   189.514  &         0.000        &        6.950    &        7.096     \\\\\n\\bottomrule\n\\end{tabular}\n%\\caption{Tobit Regression Results}\n\\end{center}"
          },
          "metadata": {},
          "execution_count": 12
        }
      ]
    },
    {
      "cell_type": "code",
      "source": [
        "y_star_hat = res_tobit.fittedvalues # y* = X \\hat \\beta\n",
        "u_hat = res_tobit.resid # y - y*"
      ],
      "metadata": {
        "id": "vd4btXgpznD3"
      },
      "execution_count": null,
      "outputs": []
    },
    {
      "cell_type": "markdown",
      "source": [
        "# HECKIT"
      ],
      "metadata": {
        "id": "mpsKwzy_Dm1O"
      }
    },
    {
      "cell_type": "code",
      "source": [
        "# heckit\n",
        "# done via\n",
        "# Stage 1: Probit\n",
        "# Stage 2: OLS on regressors + Inverse Mills Ratios\n",
        "y = mroz['lwage']\n",
        "# First stage regressors\n",
        "X1 = patsy.dmatrix('1 + educ + exper + expersq + nwifeinc + age + kidslt6 + kidsge6', mroz)\n",
        "# Second stage regressors\n",
        "X2 = patsy.dmatrix('1 + educ + exper + expersq', mroz)\n"
      ],
      "metadata": {
        "id": "w03Hv2yjAX36"
      },
      "execution_count": null,
      "outputs": []
    },
    {
      "cell_type": "code",
      "source": [
        "# Warning: X2 should be first! (I don't understand the logic!)\n",
        "res_heckit = Heckit(y, X2, X1).fit(cov_type_2='HC3')\n",
        "res_heckit.summary()"
      ],
      "metadata": {
        "colab": {
          "base_uri": "https://localhost:8080/",
          "height": 687
        },
        "id": "MqsHA40KAX7T",
        "outputId": "24bff581-a340-42ed-8079-ad8c38dc308c"
      },
      "execution_count": null,
      "outputs": [
        {
          "output_type": "execute_result",
          "data": {
            "text/plain": [
              "<class 'statsmodels.iolib.summary.Summary'>\n",
              "\"\"\"\n",
              "                           Heckit Regression Results                            \n",
              "================================================================================\n",
              "Dep. Variable:                    lwage   R-squared:                       0.156\n",
              "Model:                           Heckit   Adj. R-squared:                  0.150\n",
              "Method:                Heckman Two-Step   F-statistics:                   26.148\n",
              "Date:                  Sat, 12 Apr 2025   Prob (F-statistic):              0.000\n",
              "Time:                          17:38:49   Cov in 1st Stage:            nonrobust\n",
              "No. Total Obs.:                     753   Cov in 2nd Stage:                  HC3\n",
              "No. Censored Obs.:                  325                                         \n",
              "No. Uncensored Obs.:                428                                         \n",
              "==============================================================================\n",
              "                 coef    std err          z      P>|z|      [0.025      0.975]\n",
              "------------------------------------------------------------------------------\n",
              "const         -0.5781      0.305     -1.895      0.058      -1.176       0.020\n",
              "x1             0.1091      0.016      7.026      0.000       0.079       0.139\n",
              "x2             0.0439      0.016      2.699      0.007       0.012       0.076\n",
              "x3            -0.0009      0.000     -1.957      0.050      -0.002    1.15e-06\n",
              "================================================================================\n",
              "                   coef    std err          z      P>|z|      [0.025      0.975]\n",
              "--------------------------------------------------------------------------------\n",
              "z0_or_zconst     0.2701      0.509      0.531      0.595      -0.727       1.267\n",
              "z1               0.1309      0.025      5.183      0.000       0.081       0.180\n",
              "z2               0.1233      0.019      6.590      0.000       0.087       0.160\n",
              "z3              -0.0019      0.001     -3.145      0.002      -0.003      -0.001\n",
              "z4              -0.0120      0.005     -2.484      0.013      -0.022      -0.003\n",
              "z5              -0.0529      0.008     -6.235      0.000      -0.069      -0.036\n",
              "z6              -0.8683      0.119     -7.326      0.000      -1.101      -0.636\n",
              "z7               0.0360      0.043      0.828      0.408      -0.049       0.121\n",
              "================================================================================\n",
              "                   coef    std err          z      P>|z|      [0.025      0.975]\n",
              "--------------------------------------------------------------------------------\n",
              "IMR (Lambda)     0.0323      0.134      0.241      0.809      -0.230       0.294\n",
              "=====================================\n",
              "rho:                            0.049\n",
              "sigma:                          0.664\n",
              "=====================================\n",
              "\n",
              "First table are the estimates for the regression (response) equation.\n",
              "Second table are the estimates for the selection equation.\n",
              "Third table is the estimate for the coef of the inverse Mills ratio (Heckman's Lambda).\n",
              "\"\"\""
            ],
            "text/html": [
              "<table class=\"simpletable\">\n",
              "<caption>Heckit Regression Results</caption>\n",
              "<tr>\n",
              "  <th>Dep. Variable:</th>             <td>lwage</td>      <th>  R-squared:         </th> <td>   0.156</td> \n",
              "</tr>\n",
              "<tr>\n",
              "  <th>Model:</th>                    <td>Heckit</td>      <th>  Adj. R-squared:    </th> <td>   0.150</td> \n",
              "</tr>\n",
              "<tr>\n",
              "  <th>Method:</th>              <td>Heckman Two-Step</td> <th>  F-statistics:      </th> <td>  26.148</td> \n",
              "</tr>\n",
              "<tr>\n",
              "  <th>Date:</th>                <td>Sat, 12 Apr 2025</td> <th>  Prob (F-statistic):</th> <td>   0.000</td> \n",
              "</tr>\n",
              "<tr>\n",
              "  <th>Time:</th>                    <td>17:38:49</td>     <th>  Cov in 1st Stage:  </th> <td>nonrobust</td>\n",
              "</tr>\n",
              "<tr>\n",
              "  <th>No. Total Obs.:</th>             <td>753</td>       <th>  Cov in 2nd Stage:  </th>    <td>HC3</td>   \n",
              "</tr>\n",
              "<tr>\n",
              "  <th>No. Censored Obs.:</th>          <td>325</td>       <th>                     </th>     <td> </td>    \n",
              "</tr>\n",
              "<tr>\n",
              "  <th>No. Uncensored Obs.:</th>        <td>428</td>       <th>                     </th>     <td> </td>    \n",
              "</tr>\n",
              "</table>\n",
              "<table class=\"simpletable\">\n",
              "<tr>\n",
              "    <td></td>       <th>coef</th>     <th>std err</th>      <th>z</th>      <th>P>|z|</th>  <th>[0.025</th>    <th>0.975]</th>  \n",
              "</tr>\n",
              "<tr>\n",
              "  <th>const</th> <td>   -0.5781</td> <td>    0.305</td> <td>   -1.895</td> <td> 0.058</td> <td>   -1.176</td> <td>    0.020</td>\n",
              "</tr>\n",
              "<tr>\n",
              "  <th>x1</th>    <td>    0.1091</td> <td>    0.016</td> <td>    7.026</td> <td> 0.000</td> <td>    0.079</td> <td>    0.139</td>\n",
              "</tr>\n",
              "<tr>\n",
              "  <th>x2</th>    <td>    0.0439</td> <td>    0.016</td> <td>    2.699</td> <td> 0.007</td> <td>    0.012</td> <td>    0.076</td>\n",
              "</tr>\n",
              "<tr>\n",
              "  <th>x3</th>    <td>   -0.0009</td> <td>    0.000</td> <td>   -1.957</td> <td> 0.050</td> <td>   -0.002</td> <td> 1.15e-06</td>\n",
              "</tr>\n",
              "</table>\n",
              "<table class=\"simpletable\">\n",
              "<tr>\n",
              "        <td></td>          <th>coef</th>     <th>std err</th>      <th>z</th>      <th>P>|z|</th>  <th>[0.025</th>    <th>0.975]</th>  \n",
              "</tr>\n",
              "<tr>\n",
              "  <th>z0_or_zconst</th> <td>    0.2701</td> <td>    0.509</td> <td>    0.531</td> <td> 0.595</td> <td>   -0.727</td> <td>    1.267</td>\n",
              "</tr>\n",
              "<tr>\n",
              "  <th>z1</th>           <td>    0.1309</td> <td>    0.025</td> <td>    5.183</td> <td> 0.000</td> <td>    0.081</td> <td>    0.180</td>\n",
              "</tr>\n",
              "<tr>\n",
              "  <th>z2</th>           <td>    0.1233</td> <td>    0.019</td> <td>    6.590</td> <td> 0.000</td> <td>    0.087</td> <td>    0.160</td>\n",
              "</tr>\n",
              "<tr>\n",
              "  <th>z3</th>           <td>   -0.0019</td> <td>    0.001</td> <td>   -3.145</td> <td> 0.002</td> <td>   -0.003</td> <td>   -0.001</td>\n",
              "</tr>\n",
              "<tr>\n",
              "  <th>z4</th>           <td>   -0.0120</td> <td>    0.005</td> <td>   -2.484</td> <td> 0.013</td> <td>   -0.022</td> <td>   -0.003</td>\n",
              "</tr>\n",
              "<tr>\n",
              "  <th>z5</th>           <td>   -0.0529</td> <td>    0.008</td> <td>   -6.235</td> <td> 0.000</td> <td>   -0.069</td> <td>   -0.036</td>\n",
              "</tr>\n",
              "<tr>\n",
              "  <th>z6</th>           <td>   -0.8683</td> <td>    0.119</td> <td>   -7.326</td> <td> 0.000</td> <td>   -1.101</td> <td>   -0.636</td>\n",
              "</tr>\n",
              "<tr>\n",
              "  <th>z7</th>           <td>    0.0360</td> <td>    0.043</td> <td>    0.828</td> <td> 0.408</td> <td>   -0.049</td> <td>    0.121</td>\n",
              "</tr>\n",
              "</table>\n",
              "<table class=\"simpletable\">\n",
              "<tr>\n",
              "        <td></td>          <th>coef</th>     <th>std err</th>      <th>z</th>      <th>P>|z|</th>  <th>[0.025</th>    <th>0.975]</th>  \n",
              "</tr>\n",
              "<tr>\n",
              "  <th>IMR (Lambda)</th> <td>    0.0323</td> <td>    0.134</td> <td>    0.241</td> <td> 0.809</td> <td>   -0.230</td> <td>    0.294</td>\n",
              "</tr>\n",
              "</table>\n",
              "<table class=\"simpletable\">\n",
              "<tr>\n",
              "  <th>rho:</th>   <td> 0.049</td>\n",
              "</tr>\n",
              "<tr>\n",
              "  <th>sigma:</th> <td> 0.664</td>\n",
              "</tr>\n",
              "</table><br/><br/>First table are the estimates for the regression (response) equation.<br/>Second table are the estimates for the selection equation.<br/>Third table is the estimate for the coef of the inverse Mills ratio (Heckman's Lambda)."
            ],
            "text/latex": "\\begin{center}\n\\begin{tabular}{lclc}\n\\toprule\n\\textbf{Dep. Variable:}       &      lwage        \\\\\n\\textbf{Model:}               &      Heckit       \\\\\n\\textbf{Method:}              & Heckman Two-Step  \\\\\n\\textbf{Date:}                & Sat, 12 Apr 2025  \\\\\n\\textbf{Time:}                &     17:38:49      \\\\\n\\textbf{No. Total Obs.:}      &       753         \\\\\n\\textbf{No. Censored Obs.:}   &       325         \\\\\n\\textbf{No. Uncensored Obs.:} &       428         \\\\\n\\bottomrule\n\\end{tabular}\n\\begin{tabular}{lcccccc}\n               & \\textbf{coef} & \\textbf{std err} & \\textbf{z} & \\textbf{P$> |$z$|$} & \\textbf{[0.025} & \\textbf{0.975]}  \\\\\n\\midrule\n\\textbf{const} &      -0.5781  &        0.305     &    -1.895  &         0.058        &       -1.176    &        0.020     \\\\\n\\textbf{x1}    &       0.1091  &        0.016     &     7.026  &         0.000        &        0.079    &        0.139     \\\\\n\\textbf{x2}    &       0.0439  &        0.016     &     2.699  &         0.007        &        0.012    &        0.076     \\\\\n\\textbf{x3}    &      -0.0009  &        0.000     &    -1.957  &         0.050        &       -0.002    &     1.15e-06     \\\\\n                        & \\textbf{coef} & \\textbf{std err} & \\textbf{z} & \\textbf{P$> |$z$|$} & \\textbf{[0.025} & \\textbf{0.975]}  \\\\\n\\midrule\n\\textbf{z0\\_or\\_zconst} &       0.2701  &        0.509     &     0.531  &         0.595        &       -0.727    &        1.267     \\\\\n\\textbf{z1}             &       0.1309  &        0.025     &     5.183  &         0.000        &        0.081    &        0.180     \\\\\n\\textbf{z2}             &       0.1233  &        0.019     &     6.590  &         0.000        &        0.087    &        0.160     \\\\\n\\textbf{z3}             &      -0.0019  &        0.001     &    -3.145  &         0.002        &       -0.003    &       -0.001     \\\\\n\\textbf{z4}             &      -0.0120  &        0.005     &    -2.484  &         0.013        &       -0.022    &       -0.003     \\\\\n\\textbf{z5}             &      -0.0529  &        0.008     &    -6.235  &         0.000        &       -0.069    &       -0.036     \\\\\n\\textbf{z6}             &      -0.8683  &        0.119     &    -7.326  &         0.000        &       -1.101    &       -0.636     \\\\\n\\textbf{z7}             &       0.0360  &        0.043     &     0.828  &         0.408        &       -0.049    &        0.121     \\\\\n                      & \\textbf{coef} & \\textbf{std err} & \\textbf{z} & \\textbf{P$> |$z$|$} & \\textbf{[0.025} & \\textbf{0.975]}  \\\\\n\\midrule\n\\textbf{IMR (Lambda)} &       0.0323  &        0.134     &     0.241  &         0.809        &       -0.230    &        0.294     \\\\\n\\bottomrule\n\\end{tabular}\n\\begin{tabular}{lc}\n\\textbf{rho:}   &  0.049  \\\\\n\\textbf{sigma:} &  0.664  \\\\\n\\bottomrule\n\\end{tabular}\n%\\caption{Heckit Regression Results}\n\\end{center}\n\nFirst table are the estimates for the regression (response) equation. \\newline\n Second table are the estimates for the selection equation. \\newline\n Third table is the estimate for the coef of the inverse Mills ratio (Heckman's Lambda)."
          },
          "metadata": {},
          "execution_count": 131
        }
      ]
    },
    {
      "cell_type": "code",
      "source": [
        "res_tobit.wald_test('exper=expersq=0, kidslt6=kidsge6').summary()"
      ],
      "metadata": {
        "colab": {
          "base_uri": "https://localhost:8080/",
          "height": 90
        },
        "id": "g0S9dwp0FMwA",
        "outputId": "8b2de356-a5aa-46e2-e6ce-9678c3cc6ff4"
      },
      "execution_count": null,
      "outputs": [
        {
          "output_type": "stream",
          "name": "stderr",
          "text": [
            "/usr/local/lib/python3.11/dist-packages/statsmodels/base/model.py:1912: FutureWarning: The behavior of wald_test will change after 0.14 to returning scalar test statistic values. To get the future behavior now, set scalar to True. To silence this message while retaining the legacy behavior, set scalar to False.\n",
            "  warnings.warn(\n"
          ]
        },
        {
          "output_type": "execute_result",
          "data": {
            "text/plain": [
              "'<Wald test (chi2): statistic=[[199.25009919]], p-value=6.1262329323939026e-43, df_denom=3>'"
            ],
            "application/vnd.google.colaboratory.intrinsic+json": {
              "type": "string"
            }
          },
          "metadata": {},
          "execution_count": 132
        }
      ]
    },
    {
      "cell_type": "code",
      "source": [
        "dir(res_heckit)"
      ],
      "metadata": {
        "colab": {
          "base_uri": "https://localhost:8080/"
        },
        "id": "NYnh6Ba9AX-K",
        "outputId": "2dbc7987-b67c-45ae-edfa-acbbd8c5dfeb"
      },
      "execution_count": null,
      "outputs": [
        {
          "output_type": "execute_result",
          "data": {
            "text/plain": [
              "['HC1_se',\n",
              " '_HCCM',\n",
              " '__class__',\n",
              " '__delattr__',\n",
              " '__dict__',\n",
              " '__dir__',\n",
              " '__doc__',\n",
              " '__eq__',\n",
              " '__format__',\n",
              " '__ge__',\n",
              " '__getattribute__',\n",
              " '__getstate__',\n",
              " '__gt__',\n",
              " '__hash__',\n",
              " '__init__',\n",
              " '__init_subclass__',\n",
              " '__le__',\n",
              " '__lt__',\n",
              " '__module__',\n",
              " '__ne__',\n",
              " '__new__',\n",
              " '__reduce__',\n",
              " '__reduce_ex__',\n",
              " '__repr__',\n",
              " '__setattr__',\n",
              " '__sizeof__',\n",
              " '__str__',\n",
              " '__subclasshook__',\n",
              " '__weakref__',\n",
              " '_cache',\n",
              " '_data_attr',\n",
              " '_data_in_cache',\n",
              " '_get_robustcov_results',\n",
              " '_get_wald_nonlinear',\n",
              " '_transform_predict_exog',\n",
              " '_use_t',\n",
              " 'bse',\n",
              " 'centered_tss',\n",
              " 'conf_int',\n",
              " 'corr_eqnerrors',\n",
              " 'cov_HC1',\n",
              " 'cov_params',\n",
              " 'cov_type_1',\n",
              " 'cov_type_2',\n",
              " 'df_model',\n",
              " 'df_resid',\n",
              " 'endog',\n",
              " 'ess',\n",
              " 'exog',\n",
              " 'f_pvalue',\n",
              " 'f_test',\n",
              " 'fittedvalues',\n",
              " 'fvalue',\n",
              " 'het_scale',\n",
              " 'initialize',\n",
              " 'k_constant',\n",
              " 'llf',\n",
              " 'load',\n",
              " 'method',\n",
              " 'model',\n",
              " 'mse_model',\n",
              " 'mse_resid',\n",
              " 'mse_total',\n",
              " 'nobs',\n",
              " 'normalized_cov_params',\n",
              " 'params',\n",
              " 'params_inverse_mills',\n",
              " 'pinv_wexog',\n",
              " 'predict',\n",
              " 'pvalues',\n",
              " 'remove_data',\n",
              " 'resid',\n",
              " 'rsquared',\n",
              " 'rsquared_adj',\n",
              " 'save',\n",
              " 'scale',\n",
              " 'select_res',\n",
              " 'ssr',\n",
              " 'stderr_inverse_mills',\n",
              " 'summary',\n",
              " 't_test',\n",
              " 't_test_pairwise',\n",
              " 'tvalues',\n",
              " 'uncentered_tss',\n",
              " 'use_t',\n",
              " 'var_reg_error',\n",
              " 'wald_test',\n",
              " 'wald_test_terms',\n",
              " 'wendog',\n",
              " 'wexog',\n",
              " 'wresid']"
            ]
          },
          "metadata": {},
          "execution_count": 129
        }
      ]
    },
    {
      "cell_type": "code",
      "source": [],
      "metadata": {
        "id": "SyFSF1auAYAx"
      },
      "execution_count": null,
      "outputs": []
    },
    {
      "cell_type": "code",
      "source": [],
      "metadata": {
        "id": "sPJHpjJNAYC2"
      },
      "execution_count": null,
      "outputs": []
    },
    {
      "cell_type": "code",
      "source": [],
      "metadata": {
        "id": "o6eBBh6IAYE7"
      },
      "execution_count": null,
      "outputs": []
    },
    {
      "cell_type": "code",
      "source": [],
      "metadata": {
        "id": "c4J0BXSrAYHz"
      },
      "execution_count": null,
      "outputs": []
    },
    {
      "cell_type": "markdown",
      "source": [
        "# Alternative tobit implementation\n",
        "\n",
        "(less user-friendly)"
      ],
      "metadata": {
        "id": "C3aIYgp0Dre5"
      }
    },
    {
      "cell_type": "code",
      "source": [
        "# alternative tobit for comparison\n",
        "# may be ignored\n",
        "!git clone https://github.com/stnwanekezie/TobitRegression\n",
        "%cd TobitRegression/\n",
        "!pip install -r requirements.txt\n",
        "%cd ..\n",
        "%cd content/\n"
      ],
      "metadata": {
        "colab": {
          "base_uri": "https://localhost:8080/"
        },
        "id": "FBYPn5PV0BZ1",
        "outputId": "b0ba2bcb-3309-4c5e-d2c4-368281e3757a"
      },
      "execution_count": null,
      "outputs": [
        {
          "output_type": "stream",
          "name": "stdout",
          "text": [
            "Cloning into 'TobitRegression'...\n",
            "remote: Enumerating objects: 180, done.\u001b[K\n",
            "remote: Counting objects: 100% (180/180), done.\u001b[K\n",
            "remote: Compressing objects: 100% (118/118), done.\u001b[K\n",
            "remote: Total 180 (delta 78), reused 108 (delta 38), pack-reused 0 (from 0)\u001b[K\n",
            "Receiving objects: 100% (180/180), 39.78 KiB | 885.00 KiB/s, done.\n",
            "Resolving deltas: 100% (78/78), done.\n",
            "/TobitRegression\n",
            "Requirement already satisfied: bs4 in /usr/local/lib/python3.11/dist-packages (from -r requirements.txt (line 1)) (0.0.2)\n",
            "Requirement already satisfied: lxml in /usr/local/lib/python3.11/dist-packages (from -r requirements.txt (line 2)) (5.3.1)\n",
            "Requirement already satisfied: numpy in /usr/local/lib/python3.11/dist-packages (from -r requirements.txt (line 3)) (2.0.2)\n",
            "Requirement already satisfied: pandas in /usr/local/lib/python3.11/dist-packages (from -r requirements.txt (line 4)) (2.2.2)\n",
            "Requirement already satisfied: scipy in /usr/local/lib/python3.11/dist-packages (from -r requirements.txt (line 5)) (1.14.1)\n",
            "Requirement already satisfied: statsmodels in /usr/local/lib/python3.11/dist-packages (from -r requirements.txt (line 6)) (0.14.4)\n",
            "Requirement already satisfied: beautifulsoup4 in /usr/local/lib/python3.11/dist-packages (from bs4->-r requirements.txt (line 1)) (4.13.3)\n",
            "Requirement already satisfied: python-dateutil>=2.8.2 in /usr/local/lib/python3.11/dist-packages (from pandas->-r requirements.txt (line 4)) (2.8.2)\n",
            "Requirement already satisfied: pytz>=2020.1 in /usr/local/lib/python3.11/dist-packages (from pandas->-r requirements.txt (line 4)) (2025.2)\n",
            "Requirement already satisfied: tzdata>=2022.7 in /usr/local/lib/python3.11/dist-packages (from pandas->-r requirements.txt (line 4)) (2025.2)\n",
            "Requirement already satisfied: patsy>=0.5.6 in /usr/local/lib/python3.11/dist-packages (from statsmodels->-r requirements.txt (line 6)) (1.0.1)\n",
            "Requirement already satisfied: packaging>=21.3 in /usr/local/lib/python3.11/dist-packages (from statsmodels->-r requirements.txt (line 6)) (24.2)\n",
            "Requirement already satisfied: six>=1.5 in /usr/local/lib/python3.11/dist-packages (from python-dateutil>=2.8.2->pandas->-r requirements.txt (line 4)) (1.17.0)\n",
            "Requirement already satisfied: soupsieve>1.2 in /usr/local/lib/python3.11/dist-packages (from beautifulsoup4->bs4->-r requirements.txt (line 1)) (2.6)\n",
            "Requirement already satisfied: typing-extensions>=4.0.0 in /usr/local/lib/python3.11/dist-packages (from beautifulsoup4->bs4->-r requirements.txt (line 1)) (4.13.1)\n",
            "/\n",
            "/content\n"
          ]
        }
      ]
    },
    {
      "cell_type": "code",
      "source": [
        "from TobitRegression.tobit.tobit_reg import Tobit as Tobit2"
      ],
      "metadata": {
        "id": "rBi2XgpD1rRf"
      },
      "execution_count": null,
      "outputs": []
    },
    {
      "cell_type": "code",
      "source": [
        "formula_rhs = '1 + nwifeinc + educ + exper + expersq + age + kidslt6 + kidsge6'\n",
        "\n",
        "X = patsy.dmatrix(formula_rhs, mroz)\n",
        "y = mroz['hours']"
      ],
      "metadata": {
        "id": "4aZ2HPwF5VaK"
      },
      "execution_count": null,
      "outputs": []
    },
    {
      "cell_type": "markdown",
      "source": [],
      "metadata": {
        "id": "XIYLBKUQ-h8X"
      }
    },
    {
      "cell_type": "code",
      "source": [
        "res_tobit2 = Tobit2(y, X, c_lw=0).fit(cov_type='nonrobust')\n",
        "res_tobit2.summary()"
      ],
      "metadata": {
        "colab": {
          "base_uri": "https://localhost:8080/",
          "height": 615
        },
        "id": "S5Tm8sRM8HBU",
        "outputId": "bf1378c2-cc6e-4751-dbf6-0071d7c37cb8"
      },
      "execution_count": null,
      "outputs": [
        {
          "output_type": "execute_result",
          "data": {
            "text/plain": [
              "<class 'statsmodels.iolib.summary.Summary'>\n",
              "\"\"\"\n",
              "                           Tobit Regression Results                           \n",
              "==============================================================================\n",
              "Dep. Variable:                  hours   R-squared:                      -0.200\n",
              "Model:                          Tobit   Adj. R-squared:                 -0.211\n",
              "Method:                 Least Squares   F-statistic:                    -17.71\n",
              "Date:                Sat, 12 Apr 2025   Prob (F-statistic):               1.00\n",
              "Time:                        17:40:43   Log-Likelihood:                -3819.1\n",
              "No. Observations:                 753   AIC:                             7654.\n",
              "Df Residuals:                     745   BIC:                             7691.\n",
              "Df Model:                           7                                         \n",
              "Covariance Type:            nonrobust                                         \n",
              "==============================================================================\n",
              "                 coef    std err          t      P>|t|      [0.025      0.975]\n",
              "------------------------------------------------------------------------------\n",
              "const        965.3053    386.197      2.500      0.013     207.141    1723.469\n",
              "x1            -8.8142      3.673     -2.400      0.017     -16.025      -1.603\n",
              "x2            80.6456     18.181      4.436      0.000      44.953     116.338\n",
              "x3           131.5643     14.622      8.998      0.000     102.860     160.269\n",
              "x4            -1.8642      0.455     -4.097      0.000      -2.757      -0.971\n",
              "x5           -54.4050      6.357     -8.558      0.000     -66.885     -41.925\n",
              "x6          -894.0217     94.701     -9.440      0.000   -1079.934    -708.109\n",
              "x7           -16.2180     32.504     -0.499      0.618     -80.028      47.592\n",
              "==============================================================================\n",
              "Omnibus:                       23.312   Durbin-Watson:                   1.431\n",
              "Prob(Omnibus):                  0.000   Jarque-Bera (JB):               28.103\n",
              "Skew:                           0.349   Prob(JB):                     7.90e-07\n",
              "Kurtosis:                       3.640   Cond. No.                     3.06e+03\n",
              "==============================================================================\n",
              "\n",
              "Notes:\n",
              "[1] Standard Errors assume that the covariance matrix of the errors is correctly specified.\n",
              "[2] The condition number is large, 3.06e+03. This might indicate that there are\n",
              "strong multicollinearity or other numerical problems.\n",
              "\"\"\""
            ],
            "text/html": [
              "<table class=\"simpletable\">\n",
              "<caption>Tobit Regression Results</caption>\n",
              "<tr>\n",
              "  <th>Dep. Variable:</th>          <td>hours</td>      <th>  R-squared:         </th> <td>  -0.200</td>\n",
              "</tr>\n",
              "<tr>\n",
              "  <th>Model:</th>                  <td>Tobit</td>      <th>  Adj. R-squared:    </th> <td>  -0.211</td>\n",
              "</tr>\n",
              "<tr>\n",
              "  <th>Method:</th>             <td>Least Squares</td>  <th>  F-statistic:       </th> <td>  -17.71</td>\n",
              "</tr>\n",
              "<tr>\n",
              "  <th>Date:</th>             <td>Sat, 12 Apr 2025</td> <th>  Prob (F-statistic):</th>  <td>  1.00</td> \n",
              "</tr>\n",
              "<tr>\n",
              "  <th>Time:</th>                 <td>17:40:43</td>     <th>  Log-Likelihood:    </th> <td> -3819.1</td>\n",
              "</tr>\n",
              "<tr>\n",
              "  <th>No. Observations:</th>      <td>   753</td>      <th>  AIC:               </th> <td>   7654.</td>\n",
              "</tr>\n",
              "<tr>\n",
              "  <th>Df Residuals:</th>          <td>   745</td>      <th>  BIC:               </th> <td>   7691.</td>\n",
              "</tr>\n",
              "<tr>\n",
              "  <th>Df Model:</th>              <td>     7</td>      <th>                     </th>     <td> </td>   \n",
              "</tr>\n",
              "<tr>\n",
              "  <th>Covariance Type:</th>      <td>nonrobust</td>    <th>                     </th>     <td> </td>   \n",
              "</tr>\n",
              "</table>\n",
              "<table class=\"simpletable\">\n",
              "<tr>\n",
              "    <td></td>       <th>coef</th>     <th>std err</th>      <th>t</th>      <th>P>|t|</th>  <th>[0.025</th>    <th>0.975]</th>  \n",
              "</tr>\n",
              "<tr>\n",
              "  <th>const</th> <td>  965.3053</td> <td>  386.197</td> <td>    2.500</td> <td> 0.013</td> <td>  207.141</td> <td> 1723.469</td>\n",
              "</tr>\n",
              "<tr>\n",
              "  <th>x1</th>    <td>   -8.8142</td> <td>    3.673</td> <td>   -2.400</td> <td> 0.017</td> <td>  -16.025</td> <td>   -1.603</td>\n",
              "</tr>\n",
              "<tr>\n",
              "  <th>x2</th>    <td>   80.6456</td> <td>   18.181</td> <td>    4.436</td> <td> 0.000</td> <td>   44.953</td> <td>  116.338</td>\n",
              "</tr>\n",
              "<tr>\n",
              "  <th>x3</th>    <td>  131.5643</td> <td>   14.622</td> <td>    8.998</td> <td> 0.000</td> <td>  102.860</td> <td>  160.269</td>\n",
              "</tr>\n",
              "<tr>\n",
              "  <th>x4</th>    <td>   -1.8642</td> <td>    0.455</td> <td>   -4.097</td> <td> 0.000</td> <td>   -2.757</td> <td>   -0.971</td>\n",
              "</tr>\n",
              "<tr>\n",
              "  <th>x5</th>    <td>  -54.4050</td> <td>    6.357</td> <td>   -8.558</td> <td> 0.000</td> <td>  -66.885</td> <td>  -41.925</td>\n",
              "</tr>\n",
              "<tr>\n",
              "  <th>x6</th>    <td> -894.0217</td> <td>   94.701</td> <td>   -9.440</td> <td> 0.000</td> <td>-1079.934</td> <td> -708.109</td>\n",
              "</tr>\n",
              "<tr>\n",
              "  <th>x7</th>    <td>  -16.2180</td> <td>   32.504</td> <td>   -0.499</td> <td> 0.618</td> <td>  -80.028</td> <td>   47.592</td>\n",
              "</tr>\n",
              "</table>\n",
              "<table class=\"simpletable\">\n",
              "<tr>\n",
              "  <th>Omnibus:</th>       <td>23.312</td> <th>  Durbin-Watson:     </th> <td>   1.431</td>\n",
              "</tr>\n",
              "<tr>\n",
              "  <th>Prob(Omnibus):</th> <td> 0.000</td> <th>  Jarque-Bera (JB):  </th> <td>  28.103</td>\n",
              "</tr>\n",
              "<tr>\n",
              "  <th>Skew:</th>          <td> 0.349</td> <th>  Prob(JB):          </th> <td>7.90e-07</td>\n",
              "</tr>\n",
              "<tr>\n",
              "  <th>Kurtosis:</th>      <td> 3.640</td> <th>  Cond. No.          </th> <td>3.06e+03</td>\n",
              "</tr>\n",
              "</table><br/><br/>Notes:<br/>[1] Standard Errors assume that the covariance matrix of the errors is correctly specified.<br/>[2] The condition number is large, 3.06e+03. This might indicate that there are<br/>strong multicollinearity or other numerical problems."
            ],
            "text/latex": "\\begin{center}\n\\begin{tabular}{lclc}\n\\toprule\n\\textbf{Dep. Variable:}    &      hours       & \\textbf{  R-squared:         } &    -0.200   \\\\\n\\textbf{Model:}            &      Tobit       & \\textbf{  Adj. R-squared:    } &    -0.211   \\\\\n\\textbf{Method:}           &  Least Squares   & \\textbf{  F-statistic:       } &    -17.71   \\\\\n\\textbf{Date:}             & Sat, 12 Apr 2025 & \\textbf{  Prob (F-statistic):} &     1.00    \\\\\n\\textbf{Time:}             &     17:40:43     & \\textbf{  Log-Likelihood:    } &   -3819.1   \\\\\n\\textbf{No. Observations:} &         753      & \\textbf{  AIC:               } &     7654.   \\\\\n\\textbf{Df Residuals:}     &         745      & \\textbf{  BIC:               } &     7691.   \\\\\n\\textbf{Df Model:}         &           7      & \\textbf{                     } &             \\\\\n\\textbf{Covariance Type:}  &    nonrobust     & \\textbf{                     } &             \\\\\n\\bottomrule\n\\end{tabular}\n\\begin{tabular}{lcccccc}\n               & \\textbf{coef} & \\textbf{std err} & \\textbf{t} & \\textbf{P$> |$t$|$} & \\textbf{[0.025} & \\textbf{0.975]}  \\\\\n\\midrule\n\\textbf{const} &     965.3053  &      386.197     &     2.500  &         0.013        &      207.141    &     1723.469     \\\\\n\\textbf{x1}    &      -8.8142  &        3.673     &    -2.400  &         0.017        &      -16.025    &       -1.603     \\\\\n\\textbf{x2}    &      80.6456  &       18.181     &     4.436  &         0.000        &       44.953    &      116.338     \\\\\n\\textbf{x3}    &     131.5643  &       14.622     &     8.998  &         0.000        &      102.860    &      160.269     \\\\\n\\textbf{x4}    &      -1.8642  &        0.455     &    -4.097  &         0.000        &       -2.757    &       -0.971     \\\\\n\\textbf{x5}    &     -54.4050  &        6.357     &    -8.558  &         0.000        &      -66.885    &      -41.925     \\\\\n\\textbf{x6}    &    -894.0217  &       94.701     &    -9.440  &         0.000        &    -1079.934    &     -708.109     \\\\\n\\textbf{x7}    &     -16.2180  &       32.504     &    -0.499  &         0.618        &      -80.028    &       47.592     \\\\\n\\bottomrule\n\\end{tabular}\n\\begin{tabular}{lclc}\n\\textbf{Omnibus:}       & 23.312 & \\textbf{  Durbin-Watson:     } &    1.431  \\\\\n\\textbf{Prob(Omnibus):} &  0.000 & \\textbf{  Jarque-Bera (JB):  } &   28.103  \\\\\n\\textbf{Skew:}          &  0.349 & \\textbf{  Prob(JB):          } & 7.90e-07  \\\\\n\\textbf{Kurtosis:}      &  3.640 & \\textbf{  Cond. No.          } & 3.06e+03  \\\\\n\\bottomrule\n\\end{tabular}\n%\\caption{Tobit Regression Results}\n\\end{center}\n\nNotes: \\newline\n [1] Standard Errors assume that the covariance matrix of the errors is correctly specified. \\newline\n [2] The condition number is large, 3.06e+03. This might indicate that there are \\newline\n strong multicollinearity or other numerical problems."
          },
          "metadata": {},
          "execution_count": 137
        }
      ]
    },
    {
      "cell_type": "markdown",
      "source": [
        "Moral for comparison:\n",
        "\n",
        "Point coefficient estimates do match perfectly\n",
        "\n",
        "Standard errors are off."
      ],
      "metadata": {
        "id": "DXwZaxE9AeXB"
      }
    },
    {
      "cell_type": "code",
      "source": [],
      "metadata": {
        "id": "o04zsGwK8aF6"
      },
      "execution_count": null,
      "outputs": []
    },
    {
      "cell_type": "code",
      "source": [],
      "metadata": {
        "id": "q3OfAXkY8tUr"
      },
      "execution_count": null,
      "outputs": []
    }
  ]
}